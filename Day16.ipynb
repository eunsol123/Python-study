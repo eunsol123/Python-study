{
  "nbformat": 4,
  "nbformat_minor": 0,
  "metadata": {
    "colab": {
      "name": "Day16.ipynb",
      "provenance": [],
      "include_colab_link": true
    },
    "kernelspec": {
      "name": "python3",
      "display_name": "Python 3"
    },
    "language_info": {
      "name": "python"
    }
  },
  "cells": [
    {
      "cell_type": "markdown",
      "metadata": {
        "id": "view-in-github",
        "colab_type": "text"
      },
      "source": [
        "<a href=\"https://colab.research.google.com/github/eunsol123/ai/blob/main/Day16.ipynb\" target=\"_parent\"><img src=\"https://colab.research.google.com/assets/colab-badge.svg\" alt=\"Open In Colab\"/></a>"
      ]
    },
    {
      "cell_type": "code",
      "source": [
        "# Fibonacci\n",
        "\n",
        "# 1 일반식\n",
        "\n",
        "def fib(n): # n 번째의 피보나치 수열 값을 찾는 함수\n",
        "  a, b = 1,1 \n",
        "  if n == 1 or n == 2: # 1번째 와 2번째의 값은 1\n",
        "    return 1\n",
        "  for i in range(1, n) :  # 1번째 부터 n번째 까지\n",
        "    a,b = b, a+b\n",
        "    print(a, b)  # 1  2   ,    2  3   , 3, 5\n",
        "  return a\n",
        "\n",
        "fib(4)\n",
        "\n",
        "\n",
        "\n",
        "\n"
      ],
      "metadata": {
        "colab": {
          "base_uri": "https://localhost:8080/"
        },
        "id": "oy-DvInKNEtx",
        "outputId": "1f2c85bf-0a60-4928-8f47-a540a3de942e"
      },
      "execution_count": null,
      "outputs": [
        {
          "output_type": "stream",
          "name": "stdout",
          "text": [
            "1 2\n",
            "2 3\n",
            "3 5\n"
          ]
        },
        {
          "output_type": "execute_result",
          "data": {
            "text/plain": [
              "3"
            ]
          },
          "metadata": {},
          "execution_count": 6
        }
      ]
    },
    {
      "cell_type": "code",
      "source": [
        "# 3 람다\n",
        "\n",
        "fib = lambda n: 1           if n <=2             else fib(n-1) + fib(n-2)\n",
        "fib(5)"
      ],
      "metadata": {
        "colab": {
          "base_uri": "https://localhost:8080/"
        },
        "id": "MXaD8TL3R3Xu",
        "outputId": "4a334bdb-ec7a-4a22-97ce-f3c940e819f8"
      },
      "execution_count": null,
      "outputs": [
        {
          "output_type": "execute_result",
          "data": {
            "text/plain": [
              "5"
            ]
          },
          "metadata": {},
          "execution_count": 15
        }
      ]
    },
    {
      "cell_type": "code",
      "source": [
        "# 피보나치 수열의 값을 n번째까지 리스트로 전부 출력하세요\n"
      ],
      "metadata": {
        "id": "cp4BKsojTVVg"
      },
      "execution_count": null,
      "outputs": []
    },
    {
      "cell_type": "code",
      "source": [
        "# 12김지연에서 나에게 (DM) 03:47 PM\n",
        "list = []\n",
        "\n",
        "def fib(n):\n",
        "    a,b = 1,1\n",
        "    if n == 1 or n == 2: # 1번째와 2번째 값은 1\n",
        "        return 1\n",
        "    for i in range(1, n): # 1번째부터 n번째까지\n",
        "        a,b = b, a+b\n",
        "        list.append(a)\n",
        "    return list\n",
        "\n",
        "print(fib(7))\n"
      ],
      "metadata": {
        "colab": {
          "base_uri": "https://localhost:8080/"
        },
        "id": "QB5lS9djVX54",
        "outputId": "5e148d05-c990-4d89-df79-c2e1557b31cd"
      },
      "execution_count": null,
      "outputs": [
        {
          "output_type": "stream",
          "name": "stdout",
          "text": [
            "[1, 2, 3, 5, 8, 13]\n"
          ]
        }
      ]
    },
    {
      "cell_type": "code",
      "source": [
        "# 18박현용에서 나에게 (DM) 03:46 PM\n",
        "n = int(input(\"num? : \"))         \n",
        "c = [1,1]                         \n",
        "def fib(n):                 \n",
        "    a = 0\n",
        "    for i in range(n):            \n",
        "      if len(c) >= n:\n",
        "        break\n",
        "      else :                  \n",
        "        a = c[i] + c[i+1]         \n",
        "        c.append(a)\n",
        "fib(n)\n",
        "print(c)\n",
        "\n"
      ],
      "metadata": {
        "colab": {
          "base_uri": "https://localhost:8080/"
        },
        "id": "vzsSadwLVnpJ",
        "outputId": "7ade5654-9bf1-4f63-cb5b-dbc92695a46c"
      },
      "execution_count": null,
      "outputs": [
        {
          "output_type": "stream",
          "name": "stdout",
          "text": [
            "num? : 7\n",
            "[1, 1, 2, 3, 5, 8, 13]\n"
          ]
        }
      ]
    },
    {
      "cell_type": "code",
      "source": [
        "# 04김규빈님이 모두에게 03:46 PM\n",
        "def fib(n):\n",
        "  a,b= 0,1\n",
        "  if n == 1 or n == 2:\n",
        "    return 1\n",
        "  else:\n",
        "    for i in range(1,n):\n",
        "      a,b = b, a+b\n",
        "    return a\n",
        "\n",
        "li = []\n",
        "num = int(input('피보나치 몇 번째까지? '))\n",
        "\n",
        "for i in range(num+1):\n",
        "  li.append(fib(i))\n",
        "\n",
        "print(li)\n"
      ],
      "metadata": {
        "colab": {
          "base_uri": "https://localhost:8080/"
        },
        "id": "jttb03QVVwN4",
        "outputId": "e1c4b90c-eded-4103-ce28-5de9ade7b4e8"
      },
      "execution_count": null,
      "outputs": [
        {
          "output_type": "stream",
          "name": "stdout",
          "text": [
            "피보나치 몇 번째까지? 7\n",
            "[0, 1, 1, 1, 2, 3, 5, 8]\n"
          ]
        }
      ]
    },
    {
      "cell_type": "code",
      "source": [
        "# 21신창균에서 나에게 (DM) 03:45 PM\n",
        "def fib(n) : # n 번째의 피보나치 수열 값을 찾는 함수 \n",
        "\n",
        "  fib_list = []\n",
        "  a, b = 1, 1\n",
        "\n",
        "  for i in range(1, n+1) : # 1번째부터 n번째 까지\n",
        "\n",
        "    fib_list.append(a)\n",
        "\n",
        "    a, b = b, a + b\n",
        "\n",
        "  print(fib_list)\n",
        "\n",
        "fib(6)\n"
      ],
      "metadata": {
        "colab": {
          "base_uri": "https://localhost:8080/"
        },
        "id": "KcSO9TuuVYsE",
        "outputId": "57d4bf97-202a-4ee8-ccdc-120e49365244"
      },
      "execution_count": null,
      "outputs": [
        {
          "output_type": "stream",
          "name": "stdout",
          "text": [
            "[1, 1, 2, 3, 5, 8]\n"
          ]
        }
      ]
    },
    {
      "cell_type": "code",
      "source": [
        "# 29이지은에서 나에게 (DM) 03:45 PM\n",
        "def fib(n):\n",
        "  res = [1,1]\n",
        "  if n < 3:\n",
        "    return 1\n",
        "  else:\n",
        "    for i in range(2,n):\n",
        "      res.append(res[i-1] + res[i-2])\n",
        "  return res\n",
        "\n",
        "n = int(input('>>>'))\n",
        "fib(n)\n"
      ],
      "metadata": {
        "colab": {
          "base_uri": "https://localhost:8080/"
        },
        "id": "QCpFjAONVYvZ",
        "outputId": "ebefa439-571c-430e-fb8c-0e521ae8c1e4"
      },
      "execution_count": null,
      "outputs": [
        {
          "name": "stdout",
          "output_type": "stream",
          "text": [
            ">>>7\n"
          ]
        },
        {
          "output_type": "execute_result",
          "data": {
            "text/plain": [
              "[1, 1, 2, 3, 5, 8, 13]"
            ]
          },
          "metadata": {},
          "execution_count": 20
        }
      ]
    },
    {
      "cell_type": "code",
      "source": [
        "# 31 임진석에서 나에게 (DM) 03:44 PM\n",
        "def fib(n):\n",
        "  fibo = []\n",
        "  for i in range(n):\n",
        "    if i == 0 or i == 1:\n",
        "      fibo.append(1)\n",
        "    else:\n",
        "      num = fibo[i-1] + fibo[i-2]\n",
        "      fibo.append(num)\n",
        "  return fibo\n",
        "t\n",
        "fib(5)\n"
      ],
      "metadata": {
        "colab": {
          "base_uri": "https://localhost:8080/"
        },
        "id": "YF6yu3xnVYyo",
        "outputId": "9f7a6f43-cbfa-4d16-9cf8-a0237f9cfbf4"
      },
      "execution_count": null,
      "outputs": [
        {
          "output_type": "execute_result",
          "data": {
            "text/plain": [
              "[1, 1, 2, 3, 5]"
            ]
          },
          "metadata": {},
          "execution_count": 21
        }
      ]
    },
    {
      "cell_type": "code",
      "source": [
        ""
      ],
      "metadata": {
        "id": "b2uBg-v3VY6J"
      },
      "execution_count": null,
      "outputs": []
    },
    {
      "cell_type": "code",
      "source": [
        "# 2 재귀 Recursive\n",
        "\n",
        "def fib(n): # n 번째의 피보나치 수열 값을 찾는 함수\n",
        "  if n == 1 or n == 2: # 1번째 와 2번째의 값은 1\n",
        "    return 1\n",
        "  else:\n",
        "    return fib(n-1) + fib(n-2)\n",
        "\n",
        "fib(5)"
      ],
      "metadata": {
        "colab": {
          "base_uri": "https://localhost:8080/"
        },
        "id": "41_v5sfsQRdk",
        "outputId": "29b6b73f-5b9c-499d-a40e-8da3d18f4783"
      },
      "execution_count": null,
      "outputs": [
        {
          "output_type": "execute_result",
          "data": {
            "text/plain": [
              "5"
            ]
          },
          "metadata": {},
          "execution_count": 8
        }
      ]
    },
    {
      "cell_type": "code",
      "execution_count": null,
      "metadata": {
        "colab": {
          "base_uri": "https://localhost:8080/"
        },
        "id": "ot3UryTbMT4g",
        "outputId": "294888de-c02b-400c-b9f2-24a568f8d50a"
      },
      "outputs": [
        {
          "output_type": "execute_result",
          "data": {
            "text/plain": [
              "100"
            ]
          },
          "metadata": {},
          "execution_count": 24
        }
      ],
      "source": [
        "# 2D lists  2차원 리스트   #   VS  pandas 's dataframe\n",
        "#               math    korean \n",
        "# austin        90        80\n",
        "# rick           80        85\n",
        "# andy         100      70\n",
        "\n",
        "grade = [[90,80],[80,85],[100,70]]\n",
        "\n",
        "grade[2][0]"
      ]
    },
    {
      "cell_type": "code",
      "source": [
        "# Ask the user to enter the name, age and shoe size for four people.\n",
        "# Ask for the name of one of the people in the list and\n",
        "# display their age and shoe size.\n",
        "\n",
        "dict = {}\n",
        "\n",
        "for i in range(0,4):\n",
        "  name = input('Enter name : ')\n",
        "  age = input('Enter age : ')\n",
        "  shoe = input('Enter shoe : ')\n",
        "  dict[name]={'Age':age,'Shoe':shoe}\n",
        "\n",
        "who = input('Enter a name : ')\n",
        "print(dict[who])"
      ],
      "metadata": {
        "colab": {
          "base_uri": "https://localhost:8080/"
        },
        "id": "xjO6iNr9Z2CR",
        "outputId": "0b068733-5169-4cc8-b674-0d19f6f22b4b"
      },
      "execution_count": null,
      "outputs": [
        {
          "output_type": "stream",
          "name": "stdout",
          "text": [
            "Enter name : john\n",
            "Enter age : 20\n",
            "Enter shoe : 280\n",
            "Enter name : austin\n",
            "Enter age : 20\n",
            "Enter shoe : 290\n",
            "Enter name : tom\n",
            "Enter age : 25\n",
            "Enter shoe : 260\n",
            "Enter name : april\n",
            "Enter age : 22\n",
            "Enter shoe : 240\n",
            "Enter a name : austin\n",
            "{'Age': '20', 'Shoe': '290'}\n"
          ]
        }
      ]
    },
    {
      "cell_type": "code",
      "source": [
        "n = 0\n",
        "info = [[0,0],[0,0],[0,0],[0,0]]\n",
        "for i in range(1,5):\n",
        "    name = input(\"Enter the name\")\n",
        "    age = input(\"Enter the age\")\n",
        "    shsize = input(\"Enter the shoe size\")\n",
        "    info[0][n].append(name)\n",
        "    info[1][n].append(age)\n",
        "    info[2][n].append(shsize)\n",
        "    n += 1\n",
        "print(info)"
      ],
      "metadata": {
        "colab": {
          "base_uri": "https://localhost:8080/",
          "height": 290
        },
        "id": "ntA-f9I5c3gy",
        "outputId": "d0b2eb7a-56ba-4e8b-8a71-e75952305c42"
      },
      "execution_count": null,
      "outputs": [
        {
          "name": "stdout",
          "output_type": "stream",
          "text": [
            "Enter the nameadsf\n",
            "Enter the age32\n",
            "Enter the shoe size342\n"
          ]
        },
        {
          "output_type": "error",
          "ename": "IndexError",
          "evalue": "ignored",
          "traceback": [
            "\u001b[0;31m---------------------------------------------------------------------------\u001b[0m",
            "\u001b[0;31mIndexError\u001b[0m                                Traceback (most recent call last)",
            "\u001b[0;32m<ipython-input-26-2c8ceaf4a4e6>\u001b[0m in \u001b[0;36m<module>\u001b[0;34m()\u001b[0m\n\u001b[1;32m      5\u001b[0m     \u001b[0mage\u001b[0m \u001b[0;34m=\u001b[0m \u001b[0minput\u001b[0m\u001b[0;34m(\u001b[0m\u001b[0;34m\"Enter the age\"\u001b[0m\u001b[0;34m)\u001b[0m\u001b[0;34m\u001b[0m\u001b[0;34m\u001b[0m\u001b[0m\n\u001b[1;32m      6\u001b[0m     \u001b[0mshsize\u001b[0m \u001b[0;34m=\u001b[0m \u001b[0minput\u001b[0m\u001b[0;34m(\u001b[0m\u001b[0;34m\"Enter the shoe size\"\u001b[0m\u001b[0;34m)\u001b[0m\u001b[0;34m\u001b[0m\u001b[0;34m\u001b[0m\u001b[0m\n\u001b[0;32m----> 7\u001b[0;31m     \u001b[0minfo\u001b[0m\u001b[0;34m[\u001b[0m\u001b[0;36m0\u001b[0m\u001b[0;34m]\u001b[0m\u001b[0;34m[\u001b[0m\u001b[0mn\u001b[0m\u001b[0;34m]\u001b[0m\u001b[0;34m.\u001b[0m\u001b[0mappend\u001b[0m\u001b[0;34m(\u001b[0m\u001b[0mname\u001b[0m\u001b[0;34m)\u001b[0m\u001b[0;34m\u001b[0m\u001b[0;34m\u001b[0m\u001b[0m\n\u001b[0m\u001b[1;32m      8\u001b[0m     \u001b[0minfo\u001b[0m\u001b[0;34m[\u001b[0m\u001b[0;36m1\u001b[0m\u001b[0;34m]\u001b[0m\u001b[0;34m[\u001b[0m\u001b[0mn\u001b[0m\u001b[0;34m]\u001b[0m\u001b[0;34m.\u001b[0m\u001b[0mappend\u001b[0m\u001b[0;34m(\u001b[0m\u001b[0mage\u001b[0m\u001b[0;34m)\u001b[0m\u001b[0;34m\u001b[0m\u001b[0;34m\u001b[0m\u001b[0m\n\u001b[1;32m      9\u001b[0m     \u001b[0minfo\u001b[0m\u001b[0;34m[\u001b[0m\u001b[0;36m2\u001b[0m\u001b[0;34m]\u001b[0m\u001b[0;34m[\u001b[0m\u001b[0mn\u001b[0m\u001b[0;34m]\u001b[0m\u001b[0;34m.\u001b[0m\u001b[0mappend\u001b[0m\u001b[0;34m(\u001b[0m\u001b[0mshsize\u001b[0m\u001b[0;34m)\u001b[0m\u001b[0;34m\u001b[0m\u001b[0;34m\u001b[0m\u001b[0m\n",
            "\u001b[0;31mIndexError\u001b[0m: list index out of range"
          ]
        }
      ]
    },
    {
      "cell_type": "code",
      "source": [
        "# After gathering the two names, ages and shoe sizes, \n",
        "# ask the user to enter the name of the person they want to remove from the dict.\n",
        "# Delete this row from the data and display the other rows on separate lines.\n",
        "\n",
        "dict = {}\n",
        "\n",
        "for i in range(0,2):\n",
        "  name = input('Enter name : ')\n",
        "  age = input('Enter age : ')\n",
        "  shoe = input('Enter shoe : ')\n",
        "  dict[name]={'Age':age,'Shoe':shoe}\n",
        "\n",
        "getrid = input('Who do you want to remove from the dict?')\n",
        "del dict[getrid]\n",
        "\n",
        "for each in dict:\n",
        "  print(each, dict[each]['Age'], dict[each]['Shoe'])\n",
        "\n"
      ],
      "metadata": {
        "colab": {
          "base_uri": "https://localhost:8080/"
        },
        "id": "FxmSROpDdaiU",
        "outputId": "ba4a60bd-9e86-4044-e64e-26c6a44713a5"
      },
      "execution_count": null,
      "outputs": [
        {
          "output_type": "stream",
          "name": "stdout",
          "text": [
            "Enter name : austin\n",
            "Enter age : 20\n",
            "Enter shoe : 280\n",
            "Enter name : rick\n",
            "Enter age : 23\n",
            "Enter shoe : 270\n",
            "Who do you want to remove from the dict?austin\n",
            "rick 23 270\n"
          ]
        }
      ]
    },
    {
      "cell_type": "code",
      "source": [
        "# Reading and Writing to a File\n",
        "\n",
        "# It is all very well being able to define a list, make changes and add new data,\n",
        "# but if the next time the program is run it returns to the original data and your\n",
        "# changes are lost then it is not a lot of use. Therefore, It is sometimes necessary \n",
        "# to save the data outside of the program and this way the data can be stored,\n",
        "# along with any changes that are made.\n",
        "\n",
        "# write\n",
        "file = open('Countries.txt', 'w')\n",
        "file.write('Italy\\n')\n",
        "file.write('Germany\\n')\n",
        "file.write('Spain\\n')\n",
        "file.close()"
      ],
      "metadata": {
        "id": "c7yESu--gOnx"
      },
      "execution_count": null,
      "outputs": []
    },
    {
      "cell_type": "code",
      "source": [
        "# read\n",
        "file = open('Countries.txt', 'r')\n",
        "print(file.read())"
      ],
      "metadata": {
        "colab": {
          "base_uri": "https://localhost:8080/"
        },
        "id": "P8CDydbyhmm0",
        "outputId": "5e28750a-5034-4841-d83a-346f76ff3e32"
      },
      "execution_count": null,
      "outputs": [
        {
          "output_type": "stream",
          "name": "stdout",
          "text": [
            "Italy\n",
            "Germany\n",
            "Spain\n",
            "France\n",
            "\n"
          ]
        }
      ]
    },
    {
      "cell_type": "code",
      "source": [
        "file = open('Countries.txt','a')\n",
        "file.write('France\\n')\n",
        "file.close()"
      ],
      "metadata": {
        "id": "0i-S0gpBiGg_"
      },
      "execution_count": null,
      "outputs": []
    },
    {
      "cell_type": "code",
      "source": [
        "# Display the following menu to the user:\n",
        "#      1) Create a new file\n",
        "#      2) Display the file\n",
        "#      3) Add a new item to the file\n",
        "#      Make a selection 1,2 or 3 :\n",
        "\n",
        "# Ask the user to enter 1,2 or 3. If they select anything other than 1,2 or 3 it should\n",
        "# display a suitable error message.\n",
        "\n",
        "# If the select 1, ask the user to enter a school subject and save it to a new file called\n",
        "# 'Subject.txt'. It should overwrite any existing file with a new file.\n",
        "\n",
        "# If they select 2, display the contents of the 'Subject.txt' file\n",
        "\n",
        "# if they select 3, ask the user to enter a new subject and sav e it to the file \n",
        "#and then display the entire contents of the file.\n",
        "\n",
        "# Run the program several times to test the options.\n",
        "\n",
        "##############################################################\n",
        "# Fantastic work, saving data to external files is an important programming skill. #\n",
        "##############################################################\n",
        "\n",
        "# Delete file\n",
        "# import os\n",
        "# os.remove('filename.txt')\n",
        "\n",
        "\n",
        "# 13김현엽에서 나에게 (DM) 04:52 PM\n",
        "print(\"1, Create a new file\")\n",
        "print(\"2, Display the file\")\n",
        "print(\"3, Add a new item to the file\")\n",
        "n=int(input(\"Make a selection 1,2 or 3 : \"))\n",
        "if n !=1 and n !=2 and n !=3:\n",
        "  print(\"Error\")\n",
        "elif n==1:\n",
        "  ss = input(\"school subject : \")\n",
        "  f=open('Subject.txt','w')\n",
        "  f.write(ss)\n",
        "  f.close()\n",
        "elif n==2:\n",
        "  try:\n",
        "    f=open('Subject.txt','r')\n",
        "    print(f.read())\n",
        "  except:\n",
        "    print(\"Error\")\n",
        "elif n==3:\n",
        "  ns = input(\"new subject : \")\n",
        "  f=open('Subject.txt','a')\n",
        "  f.write(ns)\n",
        "  f.close\n",
        "\n"
      ],
      "metadata": {
        "colab": {
          "base_uri": "https://localhost:8080/"
        },
        "id": "aqUF2C90h9QN",
        "outputId": "826565ca-5866-40f9-b62f-abf876bfcb8c"
      },
      "execution_count": null,
      "outputs": [
        {
          "name": "stdout",
          "output_type": "stream",
          "text": [
            "1, Create a new file\n",
            "2, Display the file\n",
            "3, Add a new item to the file\n",
            "Make a selection 1,2 or 3 : 1\n",
            "school subject : math\n"
          ]
        }
      ]
    },
    {
      "cell_type": "code",
      "source": [
        ""
      ],
      "metadata": {
        "id": "SuK3VtYqlwK7"
      },
      "execution_count": null,
      "outputs": []
    },
    {
      "cell_type": "code",
      "source": [
        "# 29이지은에서 나에게 (DM) 04:55 PM\n",
        "file = open('Subject.txt','w')\n",
        "file.close()\n",
        "\n",
        "ask = int(input('1) Create a new file\\n2)Display the file\\n3)Add a new item to the file'))\n",
        "\n",
        "if ask > 3:\n",
        "  print('error')\n",
        "\n",
        "elif ask == 1:\n",
        "  sub = input('학교 과목 입력하시오 >>')\n",
        "  file = open('Subject.txt','a')\n",
        "  file.write(sub)\n",
        "  file.close()\n",
        "elif ask == 2:  \n",
        "  file = open('Subject.txt','r')\n",
        "  print(file.read())\n",
        "elif ask == 3:\n",
        "  sub = input('학교 과목 입력하시오 >>')\n",
        "  file = open('Subject.txt','a')\n",
        "  file.write(sub)\n",
        "  file.close()\n",
        "  file = open('Subject.txt','r')\n",
        "  print(file.read())\n"
      ],
      "metadata": {
        "id": "Dn2XMbtklEYw"
      },
      "execution_count": null,
      "outputs": []
    },
    {
      "cell_type": "code",
      "source": [
        "#  김수연\n",
        "\n",
        "# Display the following menu to the user:\n",
        "#      1) Create a new file\n",
        "#      2) Display the file\n",
        "#      3) Add a new item to the file\n",
        "#      Make a selection\n",
        "file = open('Subject.txt', 'w')\n",
        "\n",
        "while True:\n",
        "    ans = input(\"Enter the number (1) Create a new file \\n2) Display the file \\n3) Add a new item to the file\")\n",
        "    if '1' in ans:\n",
        "        sch = input('enter a school subject')\n",
        "        file = open('Subject.txt', 'w')\n",
        "        file.write(sch)\n",
        "\n",
        "    if '2' in ans:\n",
        "        file = open('Countries.txt', 'r')\n",
        "        print(file.read())\n",
        "\n",
        "    if '3' in ans:\n",
        "        sub = input(\"enter a new subject\")\n",
        "        file = open('Subject.txt', 'w')\n",
        "        file.write(sub)\n",
        "        file = open('Subject.txt', 'r')\n",
        "        print(file.read())\n",
        "\n",
        "    if '1' not in ans and '2' not in ans and '3' not in ans:\n",
        "        print(\"Error\")\n",
        "    \n",
        "    if 'break' in ans:\n",
        "        break\n"
      ],
      "metadata": {
        "colab": {
          "base_uri": "https://localhost:8080/",
          "height": 764
        },
        "id": "Ij5t_n6dlNIk",
        "outputId": "1674956e-3555-4fb0-a545-ea4f11912a2e"
      },
      "execution_count": null,
      "outputs": [
        {
          "name": "stdout",
          "output_type": "stream",
          "text": [
            "Enter the number (1) Create a new file \n",
            "2) Display the file \n",
            "3) Add a new item to the file1\n",
            "enter a school subject4\n",
            "Enter the number (1) Create a new file \n",
            "2) Display the file \n",
            "3) Add a new item to the file5\n",
            "Error\n",
            "Enter the number (1) Create a new file \n",
            "2) Display the file \n",
            "3) Add a new item to the file3\n"
          ]
        },
        {
          "output_type": "error",
          "ename": "KeyboardInterrupt",
          "evalue": "ignored",
          "traceback": [
            "\u001b[0;31m---------------------------------------------------------------------------\u001b[0m",
            "\u001b[0;31mKeyboardInterrupt\u001b[0m                         Traceback (most recent call last)",
            "\u001b[0;32m/usr/local/lib/python3.7/dist-packages/ipykernel/kernelbase.py\u001b[0m in \u001b[0;36m_input_request\u001b[0;34m(self, prompt, ident, parent, password)\u001b[0m\n\u001b[1;32m    728\u001b[0m             \u001b[0;32mtry\u001b[0m\u001b[0;34m:\u001b[0m\u001b[0;34m\u001b[0m\u001b[0;34m\u001b[0m\u001b[0m\n\u001b[0;32m--> 729\u001b[0;31m                 \u001b[0mident\u001b[0m\u001b[0;34m,\u001b[0m \u001b[0mreply\u001b[0m \u001b[0;34m=\u001b[0m \u001b[0mself\u001b[0m\u001b[0;34m.\u001b[0m\u001b[0msession\u001b[0m\u001b[0;34m.\u001b[0m\u001b[0mrecv\u001b[0m\u001b[0;34m(\u001b[0m\u001b[0mself\u001b[0m\u001b[0;34m.\u001b[0m\u001b[0mstdin_socket\u001b[0m\u001b[0;34m,\u001b[0m \u001b[0;36m0\u001b[0m\u001b[0;34m)\u001b[0m\u001b[0;34m\u001b[0m\u001b[0;34m\u001b[0m\u001b[0m\n\u001b[0m\u001b[1;32m    730\u001b[0m             \u001b[0;32mexcept\u001b[0m \u001b[0mException\u001b[0m\u001b[0;34m:\u001b[0m\u001b[0;34m\u001b[0m\u001b[0;34m\u001b[0m\u001b[0m\n",
            "\u001b[0;32m/usr/local/lib/python3.7/dist-packages/jupyter_client/session.py\u001b[0m in \u001b[0;36mrecv\u001b[0;34m(self, socket, mode, content, copy)\u001b[0m\n\u001b[1;32m    802\u001b[0m         \u001b[0;32mtry\u001b[0m\u001b[0;34m:\u001b[0m\u001b[0;34m\u001b[0m\u001b[0;34m\u001b[0m\u001b[0m\n\u001b[0;32m--> 803\u001b[0;31m             \u001b[0mmsg_list\u001b[0m \u001b[0;34m=\u001b[0m \u001b[0msocket\u001b[0m\u001b[0;34m.\u001b[0m\u001b[0mrecv_multipart\u001b[0m\u001b[0;34m(\u001b[0m\u001b[0mmode\u001b[0m\u001b[0;34m,\u001b[0m \u001b[0mcopy\u001b[0m\u001b[0;34m=\u001b[0m\u001b[0mcopy\u001b[0m\u001b[0;34m)\u001b[0m\u001b[0;34m\u001b[0m\u001b[0;34m\u001b[0m\u001b[0m\n\u001b[0m\u001b[1;32m    804\u001b[0m         \u001b[0;32mexcept\u001b[0m \u001b[0mzmq\u001b[0m\u001b[0;34m.\u001b[0m\u001b[0mZMQError\u001b[0m \u001b[0;32mas\u001b[0m \u001b[0me\u001b[0m\u001b[0;34m:\u001b[0m\u001b[0;34m\u001b[0m\u001b[0;34m\u001b[0m\u001b[0m\n",
            "\u001b[0;32m/usr/local/lib/python3.7/dist-packages/zmq/sugar/socket.py\u001b[0m in \u001b[0;36mrecv_multipart\u001b[0;34m(self, flags, copy, track)\u001b[0m\n\u001b[1;32m    624\u001b[0m         \"\"\"\n\u001b[0;32m--> 625\u001b[0;31m         \u001b[0mparts\u001b[0m \u001b[0;34m=\u001b[0m \u001b[0;34m[\u001b[0m\u001b[0mself\u001b[0m\u001b[0;34m.\u001b[0m\u001b[0mrecv\u001b[0m\u001b[0;34m(\u001b[0m\u001b[0mflags\u001b[0m\u001b[0;34m,\u001b[0m \u001b[0mcopy\u001b[0m\u001b[0;34m=\u001b[0m\u001b[0mcopy\u001b[0m\u001b[0;34m,\u001b[0m \u001b[0mtrack\u001b[0m\u001b[0;34m=\u001b[0m\u001b[0mtrack\u001b[0m\u001b[0;34m)\u001b[0m\u001b[0;34m]\u001b[0m\u001b[0;34m\u001b[0m\u001b[0;34m\u001b[0m\u001b[0m\n\u001b[0m\u001b[1;32m    626\u001b[0m         \u001b[0;31m# have first part already, only loop while more to receive\u001b[0m\u001b[0;34m\u001b[0m\u001b[0;34m\u001b[0m\u001b[0;34m\u001b[0m\u001b[0m\n",
            "\u001b[0;32mzmq/backend/cython/socket.pyx\u001b[0m in \u001b[0;36mzmq.backend.cython.socket.Socket.recv\u001b[0;34m()\u001b[0m\n",
            "\u001b[0;32mzmq/backend/cython/socket.pyx\u001b[0m in \u001b[0;36mzmq.backend.cython.socket.Socket.recv\u001b[0;34m()\u001b[0m\n",
            "\u001b[0;32mzmq/backend/cython/socket.pyx\u001b[0m in \u001b[0;36mzmq.backend.cython.socket._recv_copy\u001b[0;34m()\u001b[0m\n",
            "\u001b[0;32m/usr/local/lib/python3.7/dist-packages/zmq/backend/cython/checkrc.pxd\u001b[0m in \u001b[0;36mzmq.backend.cython.checkrc._check_rc\u001b[0;34m()\u001b[0m\n",
            "\u001b[0;31mKeyboardInterrupt\u001b[0m: ",
            "\nDuring handling of the above exception, another exception occurred:\n",
            "\u001b[0;31mKeyboardInterrupt\u001b[0m                         Traceback (most recent call last)",
            "\u001b[0;32m<ipython-input-35-0b41954fff51>\u001b[0m in \u001b[0;36m<module>\u001b[0;34m()\u001b[0m\n\u001b[1;32m     20\u001b[0m \u001b[0;34m\u001b[0m\u001b[0m\n\u001b[1;32m     21\u001b[0m     \u001b[0;32mif\u001b[0m \u001b[0;34m'3'\u001b[0m \u001b[0;32min\u001b[0m \u001b[0mans\u001b[0m\u001b[0;34m:\u001b[0m\u001b[0;34m\u001b[0m\u001b[0;34m\u001b[0m\u001b[0m\n\u001b[0;32m---> 22\u001b[0;31m         \u001b[0msub\u001b[0m \u001b[0;34m=\u001b[0m \u001b[0minput\u001b[0m\u001b[0;34m(\u001b[0m\u001b[0;34m\"enter a new subject\"\u001b[0m\u001b[0;34m)\u001b[0m\u001b[0;34m\u001b[0m\u001b[0;34m\u001b[0m\u001b[0m\n\u001b[0m\u001b[1;32m     23\u001b[0m         \u001b[0mfile\u001b[0m \u001b[0;34m=\u001b[0m \u001b[0mopen\u001b[0m\u001b[0;34m(\u001b[0m\u001b[0;34m'Subject.txt'\u001b[0m\u001b[0;34m,\u001b[0m \u001b[0;34m'w'\u001b[0m\u001b[0;34m)\u001b[0m\u001b[0;34m\u001b[0m\u001b[0;34m\u001b[0m\u001b[0m\n\u001b[1;32m     24\u001b[0m         \u001b[0mfile\u001b[0m\u001b[0;34m.\u001b[0m\u001b[0mwrite\u001b[0m\u001b[0;34m(\u001b[0m\u001b[0msub\u001b[0m\u001b[0;34m)\u001b[0m\u001b[0;34m\u001b[0m\u001b[0;34m\u001b[0m\u001b[0m\n",
            "\u001b[0;32m/usr/local/lib/python3.7/dist-packages/ipykernel/kernelbase.py\u001b[0m in \u001b[0;36mraw_input\u001b[0;34m(self, prompt)\u001b[0m\n\u001b[1;32m    702\u001b[0m             \u001b[0mself\u001b[0m\u001b[0;34m.\u001b[0m\u001b[0m_parent_ident\u001b[0m\u001b[0;34m,\u001b[0m\u001b[0;34m\u001b[0m\u001b[0;34m\u001b[0m\u001b[0m\n\u001b[1;32m    703\u001b[0m             \u001b[0mself\u001b[0m\u001b[0;34m.\u001b[0m\u001b[0m_parent_header\u001b[0m\u001b[0;34m,\u001b[0m\u001b[0;34m\u001b[0m\u001b[0;34m\u001b[0m\u001b[0m\n\u001b[0;32m--> 704\u001b[0;31m             \u001b[0mpassword\u001b[0m\u001b[0;34m=\u001b[0m\u001b[0;32mFalse\u001b[0m\u001b[0;34m,\u001b[0m\u001b[0;34m\u001b[0m\u001b[0;34m\u001b[0m\u001b[0m\n\u001b[0m\u001b[1;32m    705\u001b[0m         )\n\u001b[1;32m    706\u001b[0m \u001b[0;34m\u001b[0m\u001b[0m\n",
            "\u001b[0;32m/usr/local/lib/python3.7/dist-packages/ipykernel/kernelbase.py\u001b[0m in \u001b[0;36m_input_request\u001b[0;34m(self, prompt, ident, parent, password)\u001b[0m\n\u001b[1;32m    732\u001b[0m             \u001b[0;32mexcept\u001b[0m \u001b[0mKeyboardInterrupt\u001b[0m\u001b[0;34m:\u001b[0m\u001b[0;34m\u001b[0m\u001b[0;34m\u001b[0m\u001b[0m\n\u001b[1;32m    733\u001b[0m                 \u001b[0;31m# re-raise KeyboardInterrupt, to truncate traceback\u001b[0m\u001b[0;34m\u001b[0m\u001b[0;34m\u001b[0m\u001b[0;34m\u001b[0m\u001b[0m\n\u001b[0;32m--> 734\u001b[0;31m                 \u001b[0;32mraise\u001b[0m \u001b[0mKeyboardInterrupt\u001b[0m\u001b[0;34m\u001b[0m\u001b[0;34m\u001b[0m\u001b[0m\n\u001b[0m\u001b[1;32m    735\u001b[0m             \u001b[0;32melse\u001b[0m\u001b[0;34m:\u001b[0m\u001b[0;34m\u001b[0m\u001b[0;34m\u001b[0m\u001b[0m\n\u001b[1;32m    736\u001b[0m                 \u001b[0;32mbreak\u001b[0m\u001b[0;34m\u001b[0m\u001b[0;34m\u001b[0m\u001b[0m\n",
            "\u001b[0;31mKeyboardInterrupt\u001b[0m: "
          ]
        }
      ]
    },
    {
      "cell_type": "code",
      "source": [
        "print('1) Create a new file')\n",
        "print('2) Display the file')\n",
        "print('3) Add a new item to the file')\n",
        "print()\n",
        "\n",
        "choice = int(input('enter 1,2 or 3 : '))\n",
        "\n",
        "if choice == 1:\n",
        "    school = input('which school subject? ')\n",
        "    file = open('Subject.txt','w')\n",
        "    file.write(school + '\\n')\n",
        "    file.close()\n",
        "elif choice == 2:\n",
        "    file = open('Subject.txt','r')\n",
        "    print(file.read())\n",
        "elif choice == 3:\n",
        "    new = input('enter a new subject: ')\n",
        "    file = open('Subject.txt','a')\n",
        "    file.write(new + '\\n')\n",
        "    file.close()\n",
        "    file = open('Subject.txt','r')\n",
        "    print(file.read())\n",
        "else:\n",
        "    print('Incorrect number')\n"
      ],
      "metadata": {
        "colab": {
          "base_uri": "https://localhost:8080/"
        },
        "id": "m5cd_HlSlSOF",
        "outputId": "58fad68d-1254-47f5-cf3e-2245a97e1c39"
      },
      "execution_count": null,
      "outputs": [
        {
          "output_type": "stream",
          "name": "stdout",
          "text": [
            "1) Create a new file\n",
            "2) Display the file\n",
            "3) Add a new item to the file\n",
            "\n",
            "enter 1,2 or 3 : 3\n",
            "enter a new subject: korean\n",
            "math\n",
            "korean\n",
            "\n"
          ]
        }
      ]
    }
  ]
}