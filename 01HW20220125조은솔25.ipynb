{
  "nbformat": 4,
  "nbformat_minor": 0,
  "metadata": {
    "colab": {
      "name": "01HW20220125조은솔25.ipynb",
      "provenance": [],
      "authorship_tag": "ABX9TyMgvza5J8R3IE0jDPnkYuhO",
      "include_colab_link": true
    },
    "kernelspec": {
      "name": "python3",
      "display_name": "Python 3"
    },
    "language_info": {
      "name": "python"
    }
  },
  "cells": [
    {
      "cell_type": "markdown",
      "metadata": {
        "id": "view-in-github",
        "colab_type": "text"
      },
      "source": [
        "<a href=\"https://colab.research.google.com/github/eunsol123/ai/blob/main/01HW20220125%EC%A1%B0%EC%9D%80%EC%86%9425.ipynb\" target=\"_parent\"><img src=\"https://colab.research.google.com/assets/colab-badge.svg\" alt=\"Open In Colab\"/></a>"
      ]
    },
    {
      "cell_type": "code",
      "execution_count": 1,
      "metadata": {
        "colab": {
          "base_uri": "https://localhost:8080/"
        },
        "id": "y54mmdOTRhYQ",
        "outputId": "6b34d374-8fd4-41aa-f262-4c77c10d0fdc"
      },
      "outputs": [
        {
          "output_type": "stream",
          "name": "stdout",
          "text": [
            "Hello world\n"
          ]
        }
      ],
      "source": [
        "# 01\n",
        "\n",
        "print('Hello world')"
      ]
    },
    {
      "cell_type": "code",
      "source": [
        "# 02\n",
        "\n",
        "print(\"mary's cosmetics\")"
      ],
      "metadata": {
        "colab": {
          "base_uri": "https://localhost:8080/"
        },
        "id": "8q7pELlCSHy8",
        "outputId": "6fc50a4c-e45c-4749-eaee-0fade7a8b96a"
      },
      "execution_count": 2,
      "outputs": [
        {
          "output_type": "stream",
          "name": "stdout",
          "text": [
            "mary's cosmetics\n"
          ]
        }
      ]
    },
    {
      "cell_type": "code",
      "source": [
        "# 03\n",
        "\n",
        "print('신씨가 소리 질렀다. \"도둑이야\"')"
      ],
      "metadata": {
        "colab": {
          "base_uri": "https://localhost:8080/"
        },
        "id": "PeQUGfGhStLE",
        "outputId": "d96ecde1-0865-4c1a-ddda-6cddefd49205"
      },
      "execution_count": 6,
      "outputs": [
        {
          "output_type": "stream",
          "name": "stdout",
          "text": [
            "신씨가 소리 질렀다. \"도둑이야\"\n"
          ]
        }
      ]
    },
    {
      "cell_type": "code",
      "source": [
        "# 04\n",
        "\n",
        "print('\"C:\\Windows\"')"
      ],
      "metadata": {
        "colab": {
          "base_uri": "https://localhost:8080/"
        },
        "id": "VqdjYgAbTGrO",
        "outputId": "0c00117f-8b75-4d1b-8bff-768f3fce850a"
      },
      "execution_count": 7,
      "outputs": [
        {
          "output_type": "stream",
          "name": "stdout",
          "text": [
            "\"C:\\Windows\"\n"
          ]
        }
      ]
    },
    {
      "cell_type": "code",
      "source": [
        "# 05\n",
        "\n",
        "print(\"안녕하세요.\\n만나서\\t\\t반갑습니다.\")\n",
        "\n",
        "# \\n : 줄 바꿈\n",
        "# \\t : 탭"
      ],
      "metadata": {
        "colab": {
          "base_uri": "https://localhost:8080/"
        },
        "id": "JfuIznZPWvCv",
        "outputId": "cf177750-eaed-4372-e5b4-5052c6725590"
      },
      "execution_count": 9,
      "outputs": [
        {
          "output_type": "stream",
          "name": "stdout",
          "text": [
            "안녕하세요.\n",
            "만나서\t\t반갑습니다.\n"
          ]
        }
      ]
    },
    {
      "cell_type": "code",
      "source": [
        "# 06\n",
        "\n",
        "print (\"오늘은\", \"일요일\")\n",
        "\n",
        "# 오늘은 일요일"
      ],
      "metadata": {
        "colab": {
          "base_uri": "https://localhost:8080/"
        },
        "id": "OP_FA1kIXFsk",
        "outputId": "0922802c-249a-4a4c-9cc1-781adb973566"
      },
      "execution_count": 2,
      "outputs": [
        {
          "output_type": "stream",
          "name": "stdout",
          "text": [
            "오늘은 일요일\n"
          ]
        }
      ]
    },
    {
      "cell_type": "code",
      "source": [
        "# 07\n",
        "\n",
        "print(\"naver;kakao;sk;samsung\")"
      ],
      "metadata": {
        "colab": {
          "base_uri": "https://localhost:8080/"
        },
        "id": "gHM9ZtMVZbZA",
        "outputId": "ddcf7148-e70e-4131-858c-61ad7013f81d"
      },
      "execution_count": 1,
      "outputs": [
        {
          "output_type": "stream",
          "name": "stdout",
          "text": [
            "naver;kakao;sk;samsung\n"
          ]
        }
      ]
    },
    {
      "cell_type": "code",
      "source": [
        "# 08\n",
        "\n",
        "print(\"naver/kakao/sk/samsung\")"
      ],
      "metadata": {
        "colab": {
          "base_uri": "https://localhost:8080/"
        },
        "id": "oB_8CrncZmyD",
        "outputId": "45334c7e-a5e2-43d3-dd0a-5dfc197b651a"
      },
      "execution_count": 3,
      "outputs": [
        {
          "output_type": "stream",
          "name": "stdout",
          "text": [
            "naver/kakao/sk/samsung\n"
          ]
        }
      ]
    },
    {
      "cell_type": "code",
      "source": [
        "# 09\n",
        "\n",
        "print(\"first\");print(\"second\")"
      ],
      "metadata": {
        "colab": {
          "base_uri": "https://localhost:8080/"
        },
        "id": "HmCb__8xZ-De",
        "outputId": "d594228a-1158-4656-a23b-b849ae2fba18"
      },
      "execution_count": 4,
      "outputs": [
        {
          "output_type": "stream",
          "name": "stdout",
          "text": [
            "first\n",
            "second\n"
          ]
        }
      ]
    },
    {
      "cell_type": "code",
      "source": [
        "# 10\n",
        "\n",
        "sum = 5/3\n",
        "print(sum)\n"
      ],
      "metadata": {
        "colab": {
          "base_uri": "https://localhost:8080/"
        },
        "id": "zs2gJdR4aJWq",
        "outputId": "212797ad-91db-4c40-97b3-af1ab8f3d98f"
      },
      "execution_count": 7,
      "outputs": [
        {
          "output_type": "stream",
          "name": "stdout",
          "text": [
            "1.6666666666666667\n"
          ]
        }
      ]
    },
    {
      "cell_type": "code",
      "source": [
        "# 11"
      ],
      "metadata": {
        "id": "Osqn_sIyazOm"
      },
      "execution_count": null,
      "outputs": []
    },
    {
      "cell_type": "code",
      "source": [
        "# 12"
      ],
      "metadata": {
        "id": "5EOloza6bAqb"
      },
      "execution_count": null,
      "outputs": []
    },
    {
      "cell_type": "code",
      "source": [
        "# 13\n",
        "\n",
        "\n",
        "s = \"hello\"\n",
        "t = \"python\"\n",
        "\n",
        "print(s,t)"
      ],
      "metadata": {
        "colab": {
          "base_uri": "https://localhost:8080/"
        },
        "id": "IyiTjNhzbB_l",
        "outputId": "f75538b0-91ec-4b48-f0e6-b304a91cdcc2"
      },
      "execution_count": 8,
      "outputs": [
        {
          "output_type": "stream",
          "name": "stdout",
          "text": [
            "hello python\n"
          ]
        }
      ]
    },
    {
      "cell_type": "code",
      "source": [
        "#14\n",
        "\n",
        "a = 2\n",
        "b = 3\n",
        "sum = a+a*b\n",
        "\n",
        "print(sum)"
      ],
      "metadata": {
        "colab": {
          "base_uri": "https://localhost:8080/"
        },
        "id": "E04z5DKIeq7C",
        "outputId": "9b46004f-b13e-41b9-e635-8811623b63a7"
      },
      "execution_count": 9,
      "outputs": [
        {
          "output_type": "stream",
          "name": "stdout",
          "text": [
            "8\n"
          ]
        }
      ]
    },
    {
      "cell_type": "code",
      "source": [
        "# 15\n",
        "\n",
        "a = 128\n",
        "print (type(a))"
      ],
      "metadata": {
        "colab": {
          "base_uri": "https://localhost:8080/"
        },
        "id": "OEXOFcJRe-ZY",
        "outputId": "63e502d9-0664-43fa-9889-8a6f341df1be"
      },
      "execution_count": 10,
      "outputs": [
        {
          "output_type": "stream",
          "name": "stdout",
          "text": [
            "<class 'int'>\n"
          ]
        }
      ]
    },
    {
      "cell_type": "code",
      "source": [
        "# 16\n",
        "num_str = \"720\"\n",
        "Change = int(num_str)\n",
        "\n",
        "print(Change)"
      ],
      "metadata": {
        "colab": {
          "base_uri": "https://localhost:8080/"
        },
        "id": "rKydcrHZfV64",
        "outputId": "34aaea3a-6505-4b7b-ab03-159c5f15d6ef"
      },
      "execution_count": 23,
      "outputs": [
        {
          "output_type": "stream",
          "name": "stdout",
          "text": [
            "720\n"
          ]
        }
      ]
    },
    {
      "cell_type": "code",
      "source": [
        "# 17\n",
        "\n",
        "num = 100\n",
        "\n",
        "Change = str(num)\n",
        "\n",
        "print(Change)"
      ],
      "metadata": {
        "colab": {
          "base_uri": "https://localhost:8080/"
        },
        "id": "p76SuE21fapP",
        "outputId": "f59fdf17-87d3-4fbd-e695-3ad29c0fe04b"
      },
      "execution_count": 21,
      "outputs": [
        {
          "output_type": "stream",
          "name": "stdout",
          "text": [
            "100\n"
          ]
        }
      ]
    },
    {
      "cell_type": "code",
      "source": [
        "# 18\n",
        "\n",
        "num = \"15.79\"\n",
        "Change = float(num)\n",
        "\n",
        "print(Change)"
      ],
      "metadata": {
        "colab": {
          "base_uri": "https://localhost:8080/"
        },
        "id": "f8PuYH1VfcmA",
        "outputId": "717ab715-dda2-4db3-bfa3-5c23d68f74d1"
      },
      "execution_count": 22,
      "outputs": [
        {
          "output_type": "stream",
          "name": "stdout",
          "text": [
            "15.79\n"
          ]
        }
      ]
    },
    {
      "cell_type": "code",
      "source": [
        "# 19\n",
        "\n",
        "year = \"2020\"\n",
        "day = int(year)\n",
        "\n",
        "print(day+3, '년')"
      ],
      "metadata": {
        "colab": {
          "base_uri": "https://localhost:8080/"
        },
        "id": "DoZ16dBifdfo",
        "outputId": "852d51e5-bcb4-48ad-b9f0-83ecef631428"
      },
      "execution_count": 28,
      "outputs": [
        {
          "output_type": "stream",
          "name": "stdout",
          "text": [
            "2023 년\n"
          ]
        }
      ]
    },
    {
      "cell_type": "code",
      "source": [
        "# 20\n",
        "\n",
        "airconditioner = 48584\n",
        "day = 36\n",
        "\n",
        "sum = airconditioner*day\n",
        "\n",
        "print('총',sum,'원 입니다.')"
      ],
      "metadata": {
        "colab": {
          "base_uri": "https://localhost:8080/"
        },
        "id": "1vY-vQr4feKg",
        "outputId": "e54ec944-7d71-45cc-b12c-a0f6e240963d"
      },
      "execution_count": 27,
      "outputs": [
        {
          "output_type": "stream",
          "name": "stdout",
          "text": [
            "총 1749024 원 입니다.\n"
          ]
        }
      ]
    }
  ]
}