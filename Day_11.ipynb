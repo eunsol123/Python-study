{
  "nbformat": 4,
  "nbformat_minor": 0,
  "metadata": {
    "colab": {
      "name": "Day 11.ipynb",
      "provenance": [],
      "include_colab_link": true
    },
    "kernelspec": {
      "name": "python3",
      "display_name": "Python 3"
    },
    "language_info": {
      "name": "python"
    }
  },
  "cells": [
    {
      "cell_type": "markdown",
      "metadata": {
        "id": "view-in-github",
        "colab_type": "text"
      },
      "source": [
        "<a href=\"https://colab.research.google.com/github/eunsol123/ai/blob/main/Day_11.ipynb\" target=\"_parent\"><img src=\"https://colab.research.google.com/assets/colab-badge.svg\" alt=\"Open In Colab\"/></a>"
      ]
    },
    {
      "cell_type": "code",
      "execution_count": null,
      "metadata": {
        "colab": {
          "base_uri": "https://localhost:8080/"
        },
        "id": "WbF1vKD1jjXj",
        "outputId": "6d6da2c4-a967-4767-b463-ec6a79f8cdf4"
      },
      "outputs": [
        {
          "output_type": "stream",
          "name": "stdout",
          "text": [
            "First Name : Austin\n",
            "Hello Austin\n"
          ]
        }
      ],
      "source": [
        "# 001 Ask for the user's first name and display the output message\n",
        "# (output) Hello [First Name]\n",
        "# (input)   First Name :\n",
        "\n",
        "fname = input('First Name : ')\n",
        "print('Hello', fname)"
      ]
    },
    {
      "cell_type": "code",
      "source": [
        "# 002 Ask for the user's first name and then as for their surname and display the output message\n",
        "# (output) Hello [First Name] [Surname]\n",
        "# (input) 'Please enter your surname : '\n",
        "# (input) 'Please enter your firstname : '\n",
        "sname = input('Please enter your surname  ')\n",
        "fname = input('Please enter your firstname  ')\n",
        "print('Hello', fname, sname)\n",
        "print(f'Hello {fname} {sname}')"
      ],
      "metadata": {
        "colab": {
          "base_uri": "https://localhost:8080/"
        },
        "id": "LgmHbQ-Skp9a",
        "outputId": "42cec080-a94f-43b1-f153-1a3234d788c5"
      },
      "execution_count": null,
      "outputs": [
        {
          "output_type": "stream",
          "name": "stdout",
          "text": [
            "Please enter your surname  yoon\n",
            "Please enter your firstname  austin\n",
            "Hello austin yoon\n",
            "Hello austin yoon\n"
          ]
        }
      ]
    },
    {
      "cell_type": "code",
      "source": [
        "# Ask the user to enter two numbers. Add them together and display the answer as \n",
        "#(output) The total is [answer]\n",
        "#(input) 'Please enter your first number : '\n",
        "#(input) 'Please enter your second number : '\n",
        "\n",
        "no1 = int(input('Please enter your first number : '))\n",
        "no2 = int(input('Please enter your second number : '))\n",
        "\n",
        "print(f'The total is {no1 + no2}')"
      ],
      "metadata": {
        "colab": {
          "base_uri": "https://localhost:8080/"
        },
        "id": "Wn9Sp5nwmNKr",
        "outputId": "af721311-8257-46de-fe7c-2d8f3184c5a2"
      },
      "execution_count": null,
      "outputs": [
        {
          "output_type": "stream",
          "name": "stdout",
          "text": [
            "Please enter your first number : 2\n",
            "Please enter your second number : 3\n",
            "The total is 5\n"
          ]
        }
      ]
    },
    {
      "cell_type": "code",
      "source": [
        "# Ask how many slices of pizza the user started with and ask how many slices they have eaten.\n",
        "# Work out how many slices they have left and display the answer in a user friendly format.\n",
        "\n",
        "# (input) 'Enter the number of slices of pizza you started with : '\n",
        "# (input) 'How many slices have you eaten? '\n",
        "# (output) 'The answer is [ answer ]' \n",
        "\n",
        "num1 = int(input('Enter the number of slices of pizza you started with : '))\n",
        "num2 = int(input( 'How many slices have you eaten? '))\n",
        "\n",
        "print(f'The answer is {num1-num2}')"
      ],
      "metadata": {
        "colab": {
          "base_uri": "https://localhost:8080/"
        },
        "id": "809JLi_InkMc",
        "outputId": "ace6e5aa-d10b-4deb-f303-2e6571dde21d"
      },
      "execution_count": null,
      "outputs": [
        {
          "output_type": "stream",
          "name": "stdout",
          "text": [
            "Enter the number of slices of pizza you started with : 8\n",
            "How many slices have you eaten? 4\n",
            "The answer is 4\n"
          ]
        }
      ]
    },
    {
      "cell_type": "code",
      "source": [
        "# Write a program that will ask for a number of days and then will show \n",
        "# how many hours, minutes and seconds are in that number of days.\n",
        "\n",
        "#(input) 'Enter the number of days :'\n",
        "\n",
        "#(output) 'In [days], days there are...'\n",
        "#      [hours] hours,\n",
        "#      [minutes] minutes,\n",
        "#      [seconds] seconds"
      ],
      "metadata": {
        "id": "aFODJSFjoxRP"
      },
      "execution_count": null,
      "outputs": []
    }
  ]
}