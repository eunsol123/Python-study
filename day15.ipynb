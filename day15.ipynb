{
  "nbformat": 4,
  "nbformat_minor": 0,
  "metadata": {
    "colab": {
      "name": "day15.ipynb",
      "provenance": [],
      "authorship_tag": "ABX9TyPYzqgiJjSsAlMWcOwNq2no",
      "include_colab_link": true
    },
    "kernelspec": {
      "name": "python3",
      "display_name": "Python 3"
    },
    "language_info": {
      "name": "python"
    }
  },
  "cells": [
    {
      "cell_type": "markdown",
      "metadata": {
        "id": "view-in-github",
        "colab_type": "text"
      },
      "source": [
        "<a href=\"https://colab.research.google.com/github/eunsol123/ai/blob/main/day15.ipynb\" target=\"_parent\"><img src=\"https://colab.research.google.com/assets/colab-badge.svg\" alt=\"Open In Colab\"/></a>"
      ]
    },
    {
      "cell_type": "code",
      "execution_count": 2,
      "metadata": {
        "colab": {
          "base_uri": "https://localhost:8080/"
        },
        "id": "GP3fMh5rE9k-",
        "outputId": "2ddbcd06-76e6-4f19-e406-aeb31d344fa8"
      },
      "outputs": [
        {
          "output_type": "stream",
          "name": "stdout",
          "text": [
            "무한도전\n",
            "9시 뉴스\n",
            "7시 뉴스\n",
            "런닝맨\n",
            "Enter another TV show :유퀴즈\n",
            "Enter a number between 0 and 3 :2\n",
            "무한도전\n",
            "9시 뉴스\n",
            "유퀴즈\n",
            "7시 뉴스\n",
            "런닝맨\n"
          ]
        }
      ],
      "source": [
        "# Create a list containing the titles of four TV progrannes and display then on separate lilnes.\n",
        "# Ask the user to entrt another show and a position they want it inserted into the list\n",
        "# Display the list again, showing all five TV programmes in the new positions.\n",
        "\n",
        "# 4개의 TV프로그램의 이름을 포함하는 리스트를 생성하고 각각의 줄에 표시하시오.\n",
        "# 사용자에게 다른 프로그램과 삽입할 위치를 물어보고 리스트에 추가하시오.\n",
        "# 모든 5개 프로그램을 새로운 위치로 다시 목록을 표시하시오. \n",
        "\n",
        "tv = ['무한도전', '9시 뉴스', '7시 뉴스', '런닝맨']\n",
        "for i in tv:\n",
        "  print(i)\n",
        "name = input('Enter another TV show :')\n",
        "idx = int(input('Enter a number between 0 and 3 :'))\n",
        "\n",
        "tv.insert(idx, name)\n",
        "\n",
        "for i in tv:\n",
        "  print(i)\n"
      ]
    },
    {
      "cell_type": "code",
      "source": [
        "# Create an empty list called 'nums' Ask the user to enter numbers.\n",
        "# After each number is enterd, add it ti the end of the nums list and display the list.\n",
        "# Once they have entered three numbers, ask them if they still want the last number they entered saved.\n",
        "# If they say 'no' remove the last item from the list. Display the list of numbers.\n",
        "\n",
        "# nums라는 이름의 빈 리스트를 하나 작성한다.\n",
        "# 유저에게 숫자를 입력하라고 묻는다. \n",
        "# 숫자가 각각 입력된 후에는 nums 리스트의 마지막에 추가 하고, 리스트를 출력한다.\n",
        "# 세개의 숫자를 입력받으면, 마지막 숫자는 저장할 것인지 묻는다.\n",
        "# 만약 'no'를 말하면 마지막 항목은 삭제한다. 숫자들의 목록을 출력한다. \n",
        "\n",
        "nums = []\n",
        "\n",
        "count = 0\n",
        "\n",
        "while count < 3:\n",
        "  num = int(input('Enter a number :'))\n",
        "  nums.append(num)\n",
        "  print(nums)\n",
        "  count += 1\n",
        "\n",
        "lastnum = input('Do you want the last number  saye(y/n):')\n",
        "\n",
        "if lastnum == \"n\":\n",
        "  nums.remove(num)\n",
        "\n",
        "print(nums)"
      ],
      "metadata": {
        "colab": {
          "base_uri": "https://localhost:8080/"
        },
        "id": "VzTY64_uIJ3U",
        "outputId": "2396dec4-e10c-45ff-d92d-b3cc7e461478"
      },
      "execution_count": 3,
      "outputs": [
        {
          "output_type": "stream",
          "name": "stdout",
          "text": [
            "Enter a number :1\n",
            "[1]\n",
            "Enter a number :2\n",
            "[1, 2]\n",
            "Enter a number :3\n",
            "[1, 2, 3]\n",
            "Do you want the last number  saye(y/n):y\n",
            "[1, 2, 3]\n"
          ]
        }
      ]
    },
    {
      "cell_type": "code",
      "source": [
        "# More String Manipulation 다양한 문자열 처리\n",
        "\n",
        "# Here we have a variable called name which is assigned the value 'Simon'\n",
        "\n",
        "name = 'Simon'\n",
        "\n",
        "# 'Simon' can be thought of as a sequence of individual characters and each character in that string\n",
        "# can be identified by its index.\n",
        "\n",
        "# Note how string s start indexing from 0 and not 1\n",
        "# If the string had a space in it, the space would also be counted as a character"
      ],
      "metadata": {
        "id": "xncoPBrlPWPF"
      },
      "execution_count": null,
      "outputs": []
    },
    {
      "cell_type": "code",
      "source": [
        "msg = 'HELLo'\n",
        "if msg.isupper():   # islower()\n",
        "  print('Uppercase')\n",
        "else:\n",
        "  print('This is not in uppercase')"
      ],
      "metadata": {
        "colab": {
          "base_uri": "https://localhost:8080/"
        },
        "id": "uYskg-X8RcbE",
        "outputId": "bd7154df-2242-4a58-9dac-84bbc11a2014"
      },
      "execution_count": 4,
      "outputs": [
        {
          "output_type": "stream",
          "name": "stdout",
          "text": [
            "This is not in uppercase\n"
          ]
        }
      ]
    },
    {
      "cell_type": "code",
      "source": [
        "msg = 'Hello'\n",
        "for letter in msg:\n",
        "  print(letter, end='')"
      ],
      "metadata": {
        "colab": {
          "base_uri": "https://localhost:8080/"
        },
        "id": "5Pp33EgqReBt",
        "outputId": "304e6467-2df4-4703-d86b-6aec9caf0f23"
      },
      "execution_count": 5,
      "outputs": [
        {
          "output_type": "stream",
          "name": "stdout",
          "text": [
            "Hello"
          ]
        }
      ]
    },
    {
      "cell_type": "code",
      "source": [
        "# Ask the user to type in a word upper case. If they type in it lower case, ask them to try again.\n",
        "# Keep repeeating thos until they type in a message all in uppercase.\n",
        "\n",
        "# 사용자에게 대문자로 메세지를 입력하라고 묻는다.\n",
        "# 만약 소문자가 있다면 모두 대문자로 입력할깨 까지 계속해서 다시 입력하라고 요청한다.\n",
        "\n",
        "msg = input('Enter a message in uppercase:')\n",
        "\n",
        "again = True\n",
        "while again == True:\n",
        "  if msg.isupper():\n",
        "    print('Thank you')\n",
        "    break\n",
        "  else:\n",
        "    print('Try again')\n",
        "    msg = input('Enter a message in uppercase:')"
      ],
      "metadata": {
        "colab": {
          "base_uri": "https://localhost:8080/"
        },
        "id": "XRh-5_DzRhYj",
        "outputId": "7e2ea283-8ea9-4fc2-b998-f04d4fa2a14d"
      },
      "execution_count": 1,
      "outputs": [
        {
          "output_type": "stream",
          "name": "stdout",
          "text": [
            "Enter a message in uppercase:A\n",
            "Thank you\n"
          ]
        }
      ]
    },
    {
      "cell_type": "code",
      "source": [
        "while True:\n",
        "  msg = input('Enter a message in uppercase:')\n",
        "  if msg.isupper():\n",
        "    print('Thank you')\n",
        "    break\n",
        "  else:\n",
        "    print('Try again')"
      ],
      "metadata": {
        "colab": {
          "base_uri": "https://localhost:8080/"
        },
        "id": "ljV7FO42UbYQ",
        "outputId": "7f3366e3-4234-4488-db4b-1d3f4d9a0cef"
      },
      "execution_count": 2,
      "outputs": [
        {
          "output_type": "stream",
          "name": "stdout",
          "text": [
            "Enter a message in uppercase:AAA\n",
            "Thank you\n"
          ]
        }
      ]
    },
    {
      "cell_type": "code",
      "source": [
        "# Ask the user to enter a new password.\n",
        "# Ask them to enter it again. If the two passwords match,\n",
        "# display 'thank you'. If the letters are correct but in the wrong case,\n",
        "# display the message 'They must be in the same case',\n",
        "# otherwise display the message 'Incorrect'.\n",
        "\n",
        "# 유저에게 새로운 비번을 입력하라고 묻고, 한번 더 입력하라고 요청한다. \n",
        "# 입력한 두 개의 비번이 일치하면 'thank you'라고 출력한다. \n",
        "# 만약 입력한 문자는 서로 일치하지만 대소문자가 틀리다면 \n",
        "# 'They must be in the same case'라고 출력한다. 문자가 일치하지 않다면\n",
        "# 'Incoreect'메시지를 출력한다. \n",
        "\n",
        "pw = input('enter a new password :')\n",
        "rpw = input('enter it again')\n",
        "\n",
        "if pw == rpw:\n",
        "  print('thank you')\n",
        "elif pw.upper() == rpw.upper():\n",
        "  print('They must be in the same case')\n",
        "else:\n",
        "  print('Incoreect')"
      ],
      "metadata": {
        "id": "LMnBvJmNVH4e"
      },
      "execution_count": null,
      "outputs": []
    }
  ]
}