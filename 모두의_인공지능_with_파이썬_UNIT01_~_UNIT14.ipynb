{
  "nbformat": 4,
  "nbformat_minor": 0,
  "metadata": {
    "colab": {
      "provenance": [],
      "authorship_tag": "ABX9TyPfGure8f2eeDZEtJ6S1GaD",
      "include_colab_link": true
    },
    "kernelspec": {
      "name": "python3",
      "display_name": "Python 3"
    },
    "language_info": {
      "name": "python"
    }
  },
  "cells": [
    {
      "cell_type": "markdown",
      "metadata": {
        "id": "view-in-github",
        "colab_type": "text"
      },
      "source": [
        "<a href=\"https://colab.research.google.com/github/eunsol123/Python-study/blob/main/%EB%AA%A8%EB%91%90%EC%9D%98_%EC%9D%B8%EA%B3%B5%EC%A7%80%EB%8A%A5_with_%ED%8C%8C%EC%9D%B4%EC%8D%AC_UNIT01_~_UNIT14.ipynb\" target=\"_parent\"><img src=\"https://colab.research.google.com/assets/colab-badge.svg\" alt=\"Open In Colab\"/></a>"
      ]
    },
    {
      "cell_type": "code",
      "execution_count": 5,
      "metadata": {
        "id": "-MO5SSoAzYHz"
      },
      "outputs": [],
      "source": [
        "import numpy # numpy라는 이름의 라이브러리를 가져오겠다는 의미"
      ]
    },
    {
      "cell_type": "code",
      "source": [
        "import numpy as np # numpy 라이브러리를 가져오며, 이를 호출할 때 np라는 이름으로 부르겠다라는 의미"
      ],
      "metadata": {
        "id": "EYJ6l7-Xzd-g"
      },
      "execution_count": 6,
      "outputs": []
    },
    {
      "cell_type": "code",
      "source": [
        "narray = np.array([1, 3, 5, 7, 9]) # narray라는 배열을 만들고 그 값은 1, 3, 5, 7, 9라는 의미"
      ],
      "metadata": {
        "id": "x3oPr457z4ja"
      },
      "execution_count": 8,
      "outputs": []
    },
    {
      "cell_type": "code",
      "source": [
        "narray.shape # narray라는 넘파이 배열의 형태(shape)를 보여 달라는 의미"
      ],
      "metadata": {
        "colab": {
          "base_uri": "https://localhost:8080/"
        },
        "id": "AwWR41xf1Y4o",
        "outputId": "c4d44c92-7085-4e33-8d70-eceb537a63cf"
      },
      "execution_count": 10,
      "outputs": [
        {
          "output_type": "execute_result",
          "data": {
            "text/plain": [
              "(5,)"
            ]
          },
          "metadata": {},
          "execution_count": 10
        }
      ]
    },
    {
      "cell_type": "code",
      "source": [
        "darray = np.array([[1, 3, 5, 7, 9], [2, 4, 6, 8, 10]])\n",
        "darray"
      ],
      "metadata": {
        "colab": {
          "base_uri": "https://localhost:8080/"
        },
        "id": "Vj0NqIA81jBY",
        "outputId": "b3ee0261-6357-4543-8ec6-80fa69154c3c"
      },
      "execution_count": 11,
      "outputs": [
        {
          "output_type": "execute_result",
          "data": {
            "text/plain": [
              "array([[ 1,  3,  5,  7,  9],\n",
              "       [ 2,  4,  6,  8, 10]])"
            ]
          },
          "metadata": {},
          "execution_count": 11
        }
      ]
    },
    {
      "cell_type": "code",
      "source": [
        "darray.shape # darray라는 넘파이 배열의 형태(shape)를 보여 달라는 의미"
      ],
      "metadata": {
        "colab": {
          "base_uri": "https://localhost:8080/"
        },
        "id": "FPmmV60t2cl6",
        "outputId": "718152b7-db65-4c55-bf3e-dfda79ba0280"
      },
      "execution_count": 13,
      "outputs": [
        {
          "output_type": "execute_result",
          "data": {
            "text/plain": [
              "(2, 5)"
            ]
          },
          "metadata": {},
          "execution_count": 13
        }
      ]
    },
    {
      "cell_type": "code",
      "source": [
        "d52 = darray.reshape(5, 2) # darray 배열의 형태를 5개의 행과 2개의 열로 바꾸겠다는 의미\n",
        "d52 # d52 실행"
      ],
      "metadata": {
        "colab": {
          "base_uri": "https://localhost:8080/"
        },
        "id": "-GUQYv072mL0",
        "outputId": "50e6aeef-aaf7-4a6e-d0aa-2bf6fb370199"
      },
      "execution_count": 70,
      "outputs": [
        {
          "output_type": "execute_result",
          "data": {
            "text/plain": [
              "array([[ 1,  3],\n",
              "       [ 5,  7],\n",
              "       [ 9,  2],\n",
              "       [ 4,  6],\n",
              "       [ 8, 10]])"
            ]
          },
          "metadata": {},
          "execution_count": 70
        }
      ]
    },
    {
      "cell_type": "code",
      "source": [
        "d10 = darray.reshape(10, ) # darray의 형태를 가로가 10인 형태인 1차원 배열로 바꾸겠다는 의미\n",
        "d10 # d10 실행"
      ],
      "metadata": {
        "colab": {
          "base_uri": "https://localhost:8080/"
        },
        "id": "Fau9GfkQ21WX",
        "outputId": "5e39a1b2-b3b0-4db0-9f11-ff301a5c994a"
      },
      "execution_count": 71,
      "outputs": [
        {
          "output_type": "execute_result",
          "data": {
            "text/plain": [
              "array([ 1,  3,  5,  7,  9,  2,  4,  6,  8, 10])"
            ]
          },
          "metadata": {},
          "execution_count": 71
        }
      ]
    },
    {
      "cell_type": "code",
      "source": [
        "zero = np.zeros((2, 5)) # zero라는 넘파이 배열을 만드는데, 그 값은 모두 0(np.zeros)으로 하고, 형태는 세로로 2줄(행), 가로로 5줄(열)을 만들라는 의미\n",
        "zero # zero 실행"
      ],
      "metadata": {
        "colab": {
          "base_uri": "https://localhost:8080/"
        },
        "id": "4mC8qAYF3IHs",
        "outputId": "d081eb7a-55d8-4052-8900-a50e6ecd6190"
      },
      "execution_count": 72,
      "outputs": [
        {
          "output_type": "execute_result",
          "data": {
            "text/plain": [
              "array([[0., 0., 0., 0., 0.],\n",
              "       [0., 0., 0., 0., 0.]])"
            ]
          },
          "metadata": {},
          "execution_count": 72
        }
      ]
    },
    {
      "cell_type": "code",
      "source": [
        "one = np.ones((2, 5)) # one이라는 넘파이 배열을 만드는데, 그 값은 모두 1(np.ones)으로 하고, 형태는 세로로 2줄(행), 가로로 5줄(열)을 만들라는 의미\n",
        "one # one 실행"
      ],
      "metadata": {
        "colab": {
          "base_uri": "https://localhost:8080/"
        },
        "id": "Ca_SpG2h3Ude",
        "outputId": "36591882-9ac6-4546-82b4-91b141a2f681"
      },
      "execution_count": 73,
      "outputs": [
        {
          "output_type": "execute_result",
          "data": {
            "text/plain": [
              "array([[1., 1., 1., 1., 1.],\n",
              "       [1., 1., 1., 1., 1.]])"
            ]
          },
          "metadata": {},
          "execution_count": 73
        }
      ]
    },
    {
      "cell_type": "code",
      "source": [
        "r = np.random.rand(3) # r이라는 넘파이 배열을 만드는데, 랜덤한 값(np.random.rand)으로 구성하며, 생성하는 수의 개수가 3개라는 의미\n",
        "r"
      ],
      "metadata": {
        "colab": {
          "base_uri": "https://localhost:8080/"
        },
        "id": "waiRMMnW7tq_",
        "outputId": "4ec74596-3dfa-42dd-ccfd-1bbcb4f5d0b0"
      },
      "execution_count": 74,
      "outputs": [
        {
          "output_type": "execute_result",
          "data": {
            "text/plain": [
              "array([0.54488318, 0.4236548 , 0.64589411])"
            ]
          },
          "metadata": {},
          "execution_count": 74
        }
      ]
    },
    {
      "cell_type": "code",
      "source": [
        "import matplotlib.pyplot as plt # 그래프를 그리기 위해 matplotlib 라이브러리를 사용하며 그 이름을 plt로 정한다\n",
        "\n",
        "r1000 = np.random.rand(1000) # 1000개의 무작위 값을 만든 후 이를 r1000 변수에 저장한다\n",
        "\n",
        "plt.hist(r1000) # r1000 변수의 값을 히스토그램으로 표시한다\n",
        "\n",
        "plt.grid() # 히스토그램을 격자 무늬 형태로 표시한다"
      ],
      "metadata": {
        "colab": {
          "base_uri": "https://localhost:8080/",
          "height": 265
        },
        "id": "LPF4FwG88wNK",
        "outputId": "b80e2c2f-28bd-4ef7-8a62-20bcf07eb8c3"
      },
      "execution_count": 30,
      "outputs": [
        {
          "output_type": "display_data",
          "data": {
            "text/plain": [
              "<Figure size 432x288 with 1 Axes>"
            ],
            "image/png": "[encoded data removed]"
          },
          "metadata": {
            "needs_background": "light"
          }
        }
      ]
    },
    {
      "cell_type": "code",
      "source": [
        "rn = np.random.normal(0,1,3) # normal() 함수는 정규 분포(가우시안 분포)로 값을 생성한다\n",
        "\n",
        "rn # 생성한 값을 출력한다"
      ],
      "metadata": {
        "colab": {
          "base_uri": "https://localhost:8080/"
        },
        "id": "V6Z1M5gI_GZ9",
        "outputId": "fa95716d-be42-46bf-93d2-067b9278753e"
      },
      "execution_count": 36,
      "outputs": [
        {
          "output_type": "execute_result",
          "data": {
            "text/plain": [
              "array([0.60306159, 0.80723227, 0.01933694])"
            ]
          },
          "metadata": {},
          "execution_count": 36
        }
      ]
    },
    {
      "cell_type": "code",
      "source": [
        "rn1000 = np.random.normal(0,1,1000) # 정규 분포 값을 가지는 랜덤한 값 만드는데, 그값은 0~1 사이고 개수는 1000개다\n",
        "\n",
        "plt.hist(rn1000) # 배열의 값을 히스토그램으로 나타낸다\n",
        "\n",
        "plt.grid() # 격자 무늬 형태로 표시한다"
      ],
      "metadata": {
        "colab": {
          "base_uri": "https://localhost:8080/",
          "height": 265
        },
        "id": "IRjZI0PbFCRO",
        "outputId": "85a56229-8145-423d-ad4c-363a6476297a"
      },
      "execution_count": 35,
      "outputs": [
        {
          "output_type": "display_data",
          "data": {
            "text/plain": [
              "<Figure size 432x288 with 1 Axes>"
            ],
            "image/png": "[encoded data removed]"
          },
          "metadata": {
            "needs_background": "light"
          }
        }
      ]
    },
    {
      "cell_type": "code",
      "source": [
        "ni = np.random.randint(1, 100, 5) # ni 라는 넘파이 배열을 만들며, 그 값을 1~100 사이에서 5개의 무작위 정수값을 생성한다.\n",
        "\n",
        "ni # 샹성한 값을 출력한다"
      ],
      "metadata": {
        "colab": {
          "base_uri": "https://localhost:8080/"
        },
        "id": "KaOBzPeVGMEV",
        "outputId": "41a880c7-afc9-4aa1-fcf8-c80fce5c27c3"
      },
      "execution_count": 38,
      "outputs": [
        {
          "output_type": "execute_result",
          "data": {
            "text/plain": [
              "array([ 9, 52, 37, 97, 78])"
            ]
          },
          "metadata": {},
          "execution_count": 38
        }
      ]
    },
    {
      "cell_type": "code",
      "source": [
        "print(np.random.rand(3)) # 랜덤한 숫자 3개 출력\n",
        "\n",
        "print(np.random.rand(3)) # 랜덤한 숫자 3개 출력"
      ],
      "metadata": {
        "colab": {
          "base_uri": "https://localhost:8080/"
        },
        "id": "UAb-6Y8iJLE8",
        "outputId": "6bdbb81c-eba5-4620-d9bb-3089b5dddef8"
      },
      "execution_count": 40,
      "outputs": [
        {
          "output_type": "stream",
          "name": "stdout",
          "text": [
            "[0.68914316 0.78984182 0.2726616 ]\n",
            "[0.99217309 0.61970734 0.40004464]\n"
          ]
        }
      ]
    },
    {
      "cell_type": "code",
      "source": [
        "np.random.seed(0) # seed() 함수에 특정한 숫자를 넣어서 기준을 정한다\n",
        "\n",
        "print(np.random.rand(3)) # 무작위 숫자 3개를 출력한다\n",
        " \n",
        "np.random.seed(0) # seed() 함수를 사용하여 기준을 앞과 동일하게 정한다.\n",
        "\n",
        "print(np.random.rand(3)) # 무작위 숫자 3개를 출력한다"
      ],
      "metadata": {
        "colab": {
          "base_uri": "https://localhost:8080/"
        },
        "id": "pwHDUHDDKVls",
        "outputId": "d27c43b6-557b-43fa-d81a-dfebfb40b010"
      },
      "execution_count": 42,
      "outputs": [
        {
          "output_type": "stream",
          "name": "stdout",
          "text": [
            "[0.5488135  0.71518937 0.60276338]\n",
            "[0.5488135  0.71518937 0.60276338]\n"
          ]
        }
      ]
    },
    {
      "cell_type": "code",
      "source": [
        "five = [1,2,3,4,5] # 1부터 5까지의 원소가 있는 five 배열을 만든다\n",
        "\n",
        "len(five) # five 배열의 원소 수를 보여준다"
      ],
      "metadata": {
        "colab": {
          "base_uri": "https://localhost:8080/"
        },
        "id": "v1GvjvJWLZY2",
        "outputId": "c7ed3828-b650-466b-e075-88018c3092b2"
      },
      "execution_count": 45,
      "outputs": [
        {
          "output_type": "execute_result",
          "data": {
            "text/plain": [
              "5"
            ]
          },
          "metadata": {},
          "execution_count": 45
        }
      ]
    },
    {
      "cell_type": "code",
      "source": [
        "for i in five: # five라는 배열을 사용하는 반복문을 만든다는 의미\n",
        "  print(\"설거지 끝\") # 설거지 끝 반복"
      ],
      "metadata": {
        "colab": {
          "base_uri": "https://localhost:8080/"
        },
        "id": "TycvU1DzOZll",
        "outputId": "63528757-1b80-4600-c9d8-b3a21e6e379f"
      },
      "execution_count": 51,
      "outputs": [
        {
          "output_type": "stream",
          "name": "stdout",
          "text": [
            "설거지 끝\n",
            "설거지 끝\n",
            "설거지 끝\n",
            "설거지 끝\n",
            "설거지 끝\n"
          ]
        }
      ]
    },
    {
      "cell_type": "code",
      "source": [
        "ten = [9,8,7,6,5,4,3,2,1,0]\n",
        "\n",
        "len(ten)"
      ],
      "metadata": {
        "colab": {
          "base_uri": "https://localhost:8080/"
        },
        "id": "lIA2U5V-P86Y",
        "outputId": "92393841-0f57-4122-9042-8186fba2c8a6"
      },
      "execution_count": 52,
      "outputs": [
        {
          "output_type": "execute_result",
          "data": {
            "text/plain": [
              "10"
            ]
          },
          "metadata": {},
          "execution_count": 52
        }
      ]
    },
    {
      "cell_type": "code",
      "source": [
        "for i in ten: # ten이라는 배열을 사용하는 반복문을 만든다는 의미\n",
        "  print(\"설거지 끝\") # 설거지 끝 반복"
      ],
      "metadata": {
        "colab": {
          "base_uri": "https://localhost:8080/"
        },
        "id": "H4pxCPO6QPdG",
        "outputId": "0c148a20-8d0d-4639-f2b9-67910ffc636c"
      },
      "execution_count": 54,
      "outputs": [
        {
          "output_type": "stream",
          "name": "stdout",
          "text": [
            "설거지 끝\n",
            "설거지 끝\n",
            "설거지 끝\n",
            "설거지 끝\n",
            "설거지 끝\n",
            "설거지 끝\n",
            "설거지 끝\n",
            "설거지 끝\n",
            "설거지 끝\n",
            "설거지 끝\n"
          ]
        }
      ]
    },
    {
      "cell_type": "code",
      "source": [
        "for i in five: # 원소가 5개인 five 배열을 가져와서 반복문을 만든다\n",
        "  print(i, \"번째 설거지 끝\") # 변수 i를 사용한다"
      ],
      "metadata": {
        "colab": {
          "base_uri": "https://localhost:8080/"
        },
        "id": "Vss_64y1QiTs",
        "outputId": "8eccfa27-8551-43f3-f346-9f6163bb642a"
      },
      "execution_count": 57,
      "outputs": [
        {
          "output_type": "stream",
          "name": "stdout",
          "text": [
            "1 번째 설거지 끝\n",
            "2 번째 설거지 끝\n",
            "3 번째 설거지 끝\n",
            "4 번째 설거지 끝\n",
            "5 번째 설거지 끝\n"
          ]
        }
      ]
    },
    {
      "cell_type": "code",
      "source": [
        "for i in ten: # 원소가 10개일 ten 배열을 가져와서 반복문을 만든다\n",
        "  print(i, \"개 남았습니다\") # 변수 i를 사용한다"
      ],
      "metadata": {
        "colab": {
          "base_uri": "https://localhost:8080/"
        },
        "id": "6prfj6CaRJao",
        "outputId": "ea53f2fb-4ac5-4098-e828-98e453922609"
      },
      "execution_count": 58,
      "outputs": [
        {
          "output_type": "stream",
          "name": "stdout",
          "text": [
            "9 개 남았습니다\n",
            "8 개 남았습니다\n",
            "7 개 남았습니다\n",
            "6 개 남았습니다\n",
            "5 개 남았습니다\n",
            "4 개 남았습니다\n",
            "3 개 남았습니다\n",
            "2 개 남았습니다\n",
            "1 개 남았습니다\n",
            "0 개 남았습니다\n"
          ]
        }
      ]
    },
    {
      "cell_type": "code",
      "source": [
        "rten = range(10) # 10개의 숫자를 만들고 rten에 넣는다\n",
        "\n",
        "list(rten) # list() 함수를 사용해서 rten에 넣은 10개 숫자를 배열로 만든다"
      ],
      "metadata": {
        "colab": {
          "base_uri": "https://localhost:8080/"
        },
        "id": "7O_hwRaURssT",
        "outputId": "bfd3ab2d-da6c-4e52-c18b-08fe8c0f888f"
      },
      "execution_count": 59,
      "outputs": [
        {
          "output_type": "execute_result",
          "data": {
            "text/plain": [
              "[0, 1, 2, 3, 4, 5, 6, 7, 8, 9]"
            ]
          },
          "metadata": {},
          "execution_count": 59
        }
      ]
    },
    {
      "cell_type": "code",
      "source": [
        "five1  = range(1, 6, 1) # range() 함수는 사용자가 지정하는 만큼 숫자를 만들어준다 range(시작 숫자, 끝 숫자, 건너뛰기)\n",
        "\n",
        "list(five1)"
      ],
      "metadata": {
        "colab": {
          "base_uri": "https://localhost:8080/"
        },
        "id": "pXAKpfVeSZXT",
        "outputId": "b07fc3f5-1ff0-429e-a0bb-f5de6d740e27"
      },
      "execution_count": 62,
      "outputs": [
        {
          "output_type": "execute_result",
          "data": {
            "text/plain": [
              "[1, 2, 3, 4, 5]"
            ]
          },
          "metadata": {},
          "execution_count": 62
        }
      ]
    },
    {
      "cell_type": "code",
      "source": [
        "ten9 = range(9,-1,-1) # (시작 숫자 : 9 , 끝 숫자 : -1, -1씩 건너뛰기)\n",
        "\n",
        "list(ten9)"
      ],
      "metadata": {
        "colab": {
          "base_uri": "https://localhost:8080/"
        },
        "id": "NOvWchOgiJby",
        "outputId": "2f504552-d0ab-4c24-a9be-7b4a2a8dd512"
      },
      "execution_count": 65,
      "outputs": [
        {
          "output_type": "execute_result",
          "data": {
            "text/plain": [
              "[9, 8, 7, 6, 5, 4, 3, 2, 1, 0]"
            ]
          },
          "metadata": {},
          "execution_count": 65
        }
      ]
    },
    {
      "cell_type": "code",
      "source": [
        "for i in range(1,6): # range() 함수를 사용하여 for문 만들기\n",
        "\n",
        "  print(i, \"번째 설거지 끝\")"
      ],
      "metadata": {
        "colab": {
          "base_uri": "https://localhost:8080/"
        },
        "id": "_LhNEv0Gw7HV",
        "outputId": "82c111ba-e036-4f6f-ccf1-00d54231b0d7"
      },
      "execution_count": 67,
      "outputs": [
        {
          "output_type": "stream",
          "name": "stdout",
          "text": [
            "1 번째 설거지 끝\n",
            "2 번째 설거지 끝\n",
            "3 번째 설거지 끝\n",
            "4 번째 설거지 끝\n",
            "5 번째 설거지 끝\n"
          ]
        }
      ]
    },
    {
      "cell_type": "code",
      "source": [
        "num = 15 # num 생성"
      ],
      "metadata": {
        "id": "UQhe3P6ZxX3u"
      },
      "execution_count": 75,
      "outputs": []
    },
    {
      "cell_type": "code",
      "source": [
        "if num >=10: # num이라는 변수의 값이 '10 이상일 때'라는 조건을 만들어 준다\n",
        "\n",
        "  print('10보다 큽니다') # 조건이 참일 때 출력"
      ],
      "metadata": {
        "colab": {
          "base_uri": "https://localhost:8080/"
        },
        "id": "IpvX07TM4aPO",
        "outputId": "88e36863-095a-4fbc-eefe-ea7dd9bbf45f"
      },
      "execution_count": 82,
      "outputs": [
        {
          "output_type": "stream",
          "name": "stdout",
          "text": [
            "10보다 큽니다\n"
          ]
        }
      ]
    },
    {
      "cell_type": "code",
      "source": [
        "num2 = 20 # num2 생성"
      ],
      "metadata": {
        "id": "kGZf982Q5vqT"
      },
      "execution_count": 83,
      "outputs": []
    },
    {
      "cell_type": "code",
      "source": [
        "if num2 %2 == 0: # if 뒤에 조건을 넣는다\n",
        "\n",
        "  print('짝수입니다') # 조건이 참일 때 수행할 명령을 작성\n",
        "\n",
        "else: # 그렁지 않으면\n",
        "\n",
        "  print('홀수 입니다') # 조건이 참이 아닐 때 수행할 명령을 작성"
      ],
      "metadata": {
        "colab": {
          "base_uri": "https://localhost:8080/"
        },
        "id": "vDbnLJpD8B4r",
        "outputId": "d3d3ca8f-8083-4ab8-b60b-f4c458621727"
      },
      "execution_count": 85,
      "outputs": [
        {
          "output_type": "stream",
          "name": "stdout",
          "text": [
            "짝수입니다\n"
          ]
        }
      ]
    },
    {
      "cell_type": "code",
      "source": [
        "def number_check(num): # 함수를 정의한다\n",
        "\n",
        "  if num%2 == 0: # num의 값을 2로 나눈 값이 0이라면\n",
        "    print('짝수 입니다') # 짝수다\n",
        "\n",
        "  else:  # 그렇지 않으면\n",
        "\n",
        "    print('홀수 입니다') # 홀수다"
      ],
      "metadata": {
        "id": "h4BCOaGZ8yCQ"
      },
      "execution_count": 88,
      "outputs": []
    },
    {
      "cell_type": "code",
      "source": [
        "number_check(10)"
      ],
      "metadata": {
        "colab": {
          "base_uri": "https://localhost:8080/"
        },
        "id": "SlDkkwQZ-9VZ",
        "outputId": "87d7aca2-ce73-4ce9-d302-7706de7f1b28"
      },
      "execution_count": 89,
      "outputs": [
        {
          "output_type": "stream",
          "name": "stdout",
          "text": [
            "짝수 입니다\n"
          ]
        }
      ]
    },
    {
      "cell_type": "code",
      "source": [
        "number_check(11)"
      ],
      "metadata": {
        "colab": {
          "base_uri": "https://localhost:8080/"
        },
        "id": "JPoDyPyR_Pnf",
        "outputId": "1719071a-9acc-4a43-fe45-7923c41905d4"
      },
      "execution_count": 90,
      "outputs": [
        {
          "output_type": "stream",
          "name": "stdout",
          "text": [
            "홀수 입니다\n"
          ]
        }
      ]
    }
  ]
}