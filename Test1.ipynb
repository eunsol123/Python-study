{
  "nbformat": 4,
  "nbformat_minor": 0,
  "metadata": {
    "colab": {
      "name": "Test1.ipynb",
      "provenance": [],
      "collapsed_sections": [],
      "authorship_tag": "ABX9TyNmeJcJdG9kYet1+qCo/H/Q",
      "include_colab_link": true
    },
    "kernelspec": {
      "name": "python3",
      "display_name": "Python 3"
    },
    "language_info": {
      "name": "python"
    }
  },
  "cells": [
    {
      "cell_type": "markdown",
      "metadata": {
        "id": "view-in-github",
        "colab_type": "text"
      },
      "source": [
        "<a href=\"https://colab.research.google.com/github/eunsol123/ai/blob/main/Test1.ipynb\" target=\"_parent\"><img src=\"https://colab.research.google.com/assets/colab-badge.svg\" alt=\"Open In Colab\"/></a>"
      ]
    },
    {
      "cell_type": "code",
      "execution_count": null,
      "metadata": {
        "colab": {
          "base_uri": "https://localhost:8080/"
        },
        "id": "0Vzz5nHVx1fy",
        "outputId": "1fe6fcbc-8402-4a6f-9c94-600db94192e6"
      },
      "outputs": [
        {
          "output_type": "stream",
          "name": "stdout",
          "text": [
            "Enter string :HeLLo\n",
            "The number of lowercase characters is: 3\n",
            "The number of uppercase characters is: 2\n"
          ]
        }
      ],
      "source": [
        "st = input('Enter string :')\n",
        "\n",
        "lc = \"ABCDEFGHIJKLMNOPQRSTUVWXYZ\"\n",
        "uc = \"abcdefghijklmnopqrstuvwxyz\"\n",
        "\n",
        "ic_cnt = \"\"\n",
        "uc_cnt = \"\"\n",
        "\n",
        "for i in st:\n",
        "  if i in lc:\n",
        "    ic_cnt += i\n",
        "  \n",
        "  elif i in uc:\n",
        "    uc_cnt += i\n",
        "\n",
        "print('The number of lowercase characters is:',len(ic_cnt))\n",
        "print('The number of uppercase characters is:',len(uc_cnt))\n"
      ]
    },
    {
      "cell_type": "code",
      "source": [
        ""
      ],
      "metadata": {
        "id": "XjaUIQL63yXH"
      },
      "execution_count": null,
      "outputs": []
    }
  ]
}