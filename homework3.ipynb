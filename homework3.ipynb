{
  "nbformat": 4,
  "nbformat_minor": 0,
  "metadata": {
    "colab": {
      "name": "homework3.ipynb",
      "provenance": [],
      "authorship_tag": "ABX9TyMYjkEp0qaMsEvb4jbyrUDM",
      "include_colab_link": true
    },
    "kernelspec": {
      "name": "python3",
      "display_name": "Python 3"
    },
    "language_info": {
      "name": "python"
    }
  },
  "cells": [
    {
      "cell_type": "markdown",
      "metadata": {
        "id": "view-in-github",
        "colab_type": "text"
      },
      "source": [
        "<a href=\"https://colab.research.google.com/github/eunsol123/ai/blob/main/homework3.ipynb\" target=\"_parent\"><img src=\"https://colab.research.google.com/assets/colab-badge.svg\" alt=\"Open In Colab\"/></a>"
      ]
    },
    {
      "cell_type": "code",
      "execution_count": 11,
      "metadata": {
        "colab": {
          "base_uri": "https://localhost:8080/"
        },
        "id": "fyt2BDY4i-VM",
        "outputId": "77bd3c17-c36e-4ee3-b052-729985c36289"
      },
      "outputs": [
        {
          "output_type": "execute_result",
          "data": {
            "text/plain": [
              "{'메로나': [300, 20], '비비빅': [400, 3], '죠스바': [250, 9]}"
            ]
          },
          "metadata": {},
          "execution_count": 11
        }
      ],
      "source": [
        "#91\n",
        "\n",
        "inventory = {\n",
        "    '메로나':[300, 20],\n",
        "    '비비빅':[400, 3],\n",
        "    '죠스바':[250, 9]\n",
        "\n",
        "}\n",
        "\n",
        "inventory"
      ]
    },
    {
      "cell_type": "code",
      "source": [
        "#92\n",
        "\n",
        "inventory = {\n",
        "    '메로나':[300, 20],\n",
        "    '비비빅':[400, 3],\n",
        "    '죠스바':[250, 9]\n",
        "\n",
        "}\n",
        "\n",
        "inventory1 = {\n",
        "    '메로나':'300 원',\n",
        "    '비비빅':'400 원',\n",
        "    '죠스바':'250 원'\n",
        "\n",
        "}\n",
        "\n",
        "inventory2 = {\n",
        "    '메로나':'20개',\n",
        "    '비비빅':'3개',\n",
        "    '죠스바':'9개'\n",
        "\n",
        "}\n",
        "\n",
        "print(inventory1['메로나'])"
      ],
      "metadata": {
        "colab": {
          "base_uri": "https://localhost:8080/"
        },
        "id": "qop5zwS4klvD",
        "outputId": "d3ac15de-676d-4ca9-9983-61e11d7f21c1"
      },
      "execution_count": 27,
      "outputs": [
        {
          "output_type": "stream",
          "name": "stdout",
          "text": [
            "300 원\n"
          ]
        }
      ]
    },
    {
      "cell_type": "code",
      "source": [
        "#93\n",
        "\n",
        "inventory = {\n",
        "    '메로나':[300, 20],\n",
        "    '비비빅':[400, 3],\n",
        "    '죠스바':[250, 9]\n",
        "\n",
        "}\n",
        "\n",
        "inventory1 = {\n",
        "    '메로나':'300 원',\n",
        "    '비비빅':'400 원',\n",
        "    '죠스바':'250 원'\n",
        "\n",
        "}\n",
        "\n",
        "inventory2 = {\n",
        "    '메로나':'20개',\n",
        "    '비비빅':'3개',\n",
        "    '죠스바':'9개'\n",
        "\n",
        "}\n",
        "\n",
        "print(inventory2['메로나'])"
      ],
      "metadata": {
        "colab": {
          "base_uri": "https://localhost:8080/"
        },
        "id": "4OgagN_lAkaC",
        "outputId": "10f412eb-c6b9-478e-cc80-c09bbb33c0ab"
      },
      "execution_count": 28,
      "outputs": [
        {
          "output_type": "stream",
          "name": "stdout",
          "text": [
            "20개\n"
          ]
        }
      ]
    },
    {
      "cell_type": "code",
      "source": [
        "#94\n",
        "\n",
        "inventory = {\n",
        "    '메로나':[300, 20],\n",
        "    '비비빅':[400, 3],\n",
        "    '죠스바':[250, 9],\n",
        "    '월드콘':[500, 7]\n",
        "\n",
        "}\n",
        "\n",
        "print(inventory)"
      ],
      "metadata": {
        "colab": {
          "base_uri": "https://localhost:8080/"
        },
        "id": "B2kVo12cAsCO",
        "outputId": "07efa4b8-85b7-4420-c1cd-6317fc940edf"
      },
      "execution_count": 30,
      "outputs": [
        {
          "output_type": "stream",
          "name": "stdout",
          "text": [
            "{'메로나': [300, 20], '비비빅': [400, 3], '죠스바': [250, 9], '월드콘': [500, 7]}\n"
          ]
        }
      ]
    },
    {
      "cell_type": "code",
      "source": [
        "#95\n",
        "\n",
        "icecream = {'탱크보이': 1200, '폴라포': 1200, '빵빠레': 1800, '월드콘': 1500, '메로나': 1000}\n",
        "\n",
        "icecream"
      ],
      "metadata": {
        "colab": {
          "base_uri": "https://localhost:8080/"
        },
        "id": "QITejc44BN7H",
        "outputId": "450e14ef-7e52-41c2-e73c-095365010b0c"
      },
      "execution_count": 31,
      "outputs": [
        {
          "output_type": "execute_result",
          "data": {
            "text/plain": [
              "{'메로나': 1000, '빵빠레': 1800, '월드콘': 1500, '탱크보이': 1200, '폴라포': 1200}"
            ]
          },
          "metadata": {},
          "execution_count": 31
        }
      ]
    },
    {
      "cell_type": "code",
      "source": [
        "#96\n",
        "\n"
      ],
      "metadata": {
        "id": "DMDR1BZgBqKj"
      },
      "execution_count": null,
      "outputs": []
    },
    {
      "cell_type": "code",
      "source": [
        "#97\n",
        "\n"
      ],
      "metadata": {
        "id": "xmuo9TWGBrpH"
      },
      "execution_count": null,
      "outputs": []
    },
    {
      "cell_type": "code",
      "source": [
        "#98\n",
        "\n",
        "icecream = {'탱크보이': 1200, '폴라포': 1200, '빵빠레': 1800, '월드콘': 1500, '메로나': 1000} \n",
        "new_product = {'팥빙수':2700, '아맛나':1000}\n",
        "\n",
        "print(icecream,new_product)"
      ],
      "metadata": {
        "colab": {
          "base_uri": "https://localhost:8080/"
        },
        "id": "TGohn7MXBtB2",
        "outputId": "83ad4dca-e104-41e8-9d12-aa6e8372835e"
      },
      "execution_count": 34,
      "outputs": [
        {
          "output_type": "stream",
          "name": "stdout",
          "text": [
            "{'탱크보이': 1200, '폴라포': 1200, '빵빠레': 1800, '월드콘': 1500, '메로나': 1000} {'팥빙수': 2700, '아맛나': 1000}\n"
          ]
        }
      ]
    },
    {
      "cell_type": "code",
      "source": [
        "#99\n",
        "\n"
      ],
      "metadata": {
        "id": "DnuiMFUaBuSF"
      },
      "execution_count": null,
      "outputs": []
    },
    {
      "cell_type": "code",
      "source": [
        "#100\n",
        "\n"
      ],
      "metadata": {
        "id": "SRka9dz9BxqS"
      },
      "execution_count": null,
      "outputs": []
    }
  ]
}