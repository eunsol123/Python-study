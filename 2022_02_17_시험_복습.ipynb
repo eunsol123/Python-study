{
  "nbformat": 4,
  "nbformat_minor": 0,
  "metadata": {
    "colab": {
      "name": "2022.02.17 시험 복습.ipynb",
      "provenance": [],
      "authorship_tag": "ABX9TyNHZ9PT2uZiNa4rrDs73HHl",
      "include_colab_link": true
    },
    "kernelspec": {
      "name": "python3",
      "display_name": "Python 3"
    },
    "language_info": {
      "name": "python"
    }
  },
  "cells": [
    {
      "cell_type": "markdown",
      "metadata": {
        "id": "view-in-github",
        "colab_type": "text"
      },
      "source": [
        "<a href=\"https://colab.research.google.com/github/eunsol123/ai/blob/main/2022_02_17_%EC%8B%9C%ED%97%98_%EB%B3%B5%EC%8A%B5.ipynb\" target=\"_parent\"><img src=\"https://colab.research.google.com/assets/colab-badge.svg\" alt=\"Open In Colab\"/></a>"
      ]
    },
    {
      "cell_type": "code",
      "execution_count": 1,
      "metadata": {
        "colab": {
          "base_uri": "https://localhost:8080/"
        },
        "id": "d51WIXmcpBwT",
        "outputId": "7e0750cd-3140-4ea6-80d4-1a767eb3a16f"
      },
      "outputs": [
        {
          "output_type": "stream",
          "name": "stdout",
          "text": [
            "3\n",
            "4\n",
            "5\n",
            "6\n",
            "7\n",
            "8\n",
            "9\n",
            "10\n"
          ]
        }
      ],
      "source": [
        "# prime number 소수\n",
        "\n",
        "n = 10\n",
        "answr = 1 #변수 초기화\n",
        "for i in range(3, n+1):\n",
        "  print(i)"
      ]
    },
    {
      "cell_type": "code",
      "source": [
        "# prime number 소수\n",
        "\n",
        "n = 5\n",
        "answer = 1 #변수 초기화\n",
        "for i in range(3, n+1):\n",
        "  for j in range(2, i):\n",
        "    if i % j == 0: #나누어 떨어지면\n",
        "      break #빠져 나가다\n",
        "    else:\n",
        "      answer += 1 #나누어 떨어지는것이 없으면 하나씩 증가\n",
        "\n",
        "print(answer)"
      ],
      "metadata": {
        "colab": {
          "base_uri": "https://localhost:8080/"
        },
        "id": "7HU5tUf9qEEX",
        "outputId": "f894fd92-78cf-41a6-f35f-93c9dd57eece"
      },
      "execution_count": 3,
      "outputs": [
        {
          "output_type": "stream",
          "name": "stdout",
          "text": [
            "5\n"
          ]
        }
      ]
    },
    {
      "cell_type": "code",
      "source": [
        ""
      ],
      "metadata": {
        "id": "nmM-OGTVsL_i"
      },
      "execution_count": null,
      "outputs": []
    },
    {
      "cell_type": "code",
      "source": [
        "# prime number 소수 출력\n",
        "# 소수는 1과 그 자신으로 나누어진다.\n",
        "\n",
        "a = 17\n",
        "\n",
        "for i in range(2, a): # 2,3,4,5,6,7,8....\n",
        "  if a % i == 0:\n",
        "    print('소수가 아닙니다.')\n",
        "    break\n",
        "  \n",
        "  else:\n",
        "    print('소수 입니다.')\n",
        "    break\n",
        "    "
      ],
      "metadata": {
        "colab": {
          "base_uri": "https://localhost:8080/"
        },
        "id": "kUe91Vq4rQzR",
        "outputId": "c6fb4080-f328-4a17-f5fa-ed67acb22714"
      },
      "execution_count": 14,
      "outputs": [
        {
          "output_type": "stream",
          "name": "stdout",
          "text": [
            "소수 입니다.\n"
          ]
        }
      ]
    }
  ]
}