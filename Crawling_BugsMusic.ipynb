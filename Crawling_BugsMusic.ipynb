{
  "nbformat": 4,
  "nbformat_minor": 0,
  "metadata": {
    "colab": {
      "name": "Crawling_BugsMusic.ipynb",
      "provenance": [],
      "include_colab_link": true
    },
    "kernelspec": {
      "name": "python3",
      "display_name": "Python 3"
    },
    "language_info": {
      "name": "python"
    }
  },
  "cells": [
    {
      "cell_type": "markdown",
      "metadata": {
        "id": "view-in-github",
        "colab_type": "text"
      },
      "source": [
        "<a href=\"https://colab.research.google.com/github/eunsol123/ai/blob/main/Crawling_BugsMusic.ipynb\" target=\"_parent\"><img src=\"https://colab.research.google.com/assets/colab-badge.svg\" alt=\"Open In Colab\"/></a>"
      ]
    },
    {
      "cell_type": "code",
      "execution_count": null,
      "metadata": {
        "id": "7z82YzZauX5j"
      },
      "outputs": [],
      "source": [
        "# pip install requests\n",
        "import requests  # 웹 페이지 연결 모듈"
      ]
    },
    {
      "cell_type": "code",
      "source": [
        "# pip install bs4\n",
        "from bs4 import BeautifulSoup as bs # 읽어온 웹페이지를 분석하기 쉽게 정제 모듈"
      ],
      "metadata": {
        "id": "yW0ztrsRvpVe"
      },
      "execution_count": null,
      "outputs": []
    },
    {
      "cell_type": "code",
      "source": [
        ""
      ],
      "metadata": {
        "id": "afQlj50ZyQP7"
      },
      "execution_count": null,
      "outputs": []
    },
    {
      "cell_type": "code",
      "source": [
        "import pandas  # 데이터 분석 모듈"
      ],
      "metadata": {
        "id": "A-J_oBm_wHb-"
      },
      "execution_count": null,
      "outputs": []
    },
    {
      "cell_type": "code",
      "source": [
        "html = requests.get('https://music.bugs.co.kr/chart')   # 웹 페이지 코드 읽어오기\n",
        "\n",
        "#print(html.text)"
      ],
      "metadata": {
        "id": "CpeDu_rdwPza"
      },
      "execution_count": null,
      "outputs": []
    },
    {
      "cell_type": "code",
      "source": [
        "soup = bs(html.text)  # BeautifulSoup 을 통해 데이터를 분석하기 용이하게 정제한다. \n",
        "# print(soup)"
      ],
      "metadata": {
        "id": "SEHVUhmRyRB-"
      },
      "execution_count": null,
      "outputs": []
    },
    {
      "cell_type": "code",
      "source": [
        "len(soup.select('tr'))  # tr태그가 붙은 부분들을 모두 추출"
      ],
      "metadata": {
        "colab": {
          "base_uri": "https://localhost:8080/"
        },
        "id": "UCGgFxHdzC9W",
        "outputId": "e168355b-75a9-49b5-987a-cdecaa755baf"
      },
      "execution_count": null,
      "outputs": [
        {
          "output_type": "execute_result",
          "data": {
            "text/plain": [
              "104"
            ]
          },
          "metadata": {},
          "execution_count": 13
        }
      ]
    },
    {
      "cell_type": "code",
      "source": [
        "len(soup.select('tbody > tr')) # 원하는 100개 아니므로 범위를 축소"
      ],
      "metadata": {
        "colab": {
          "base_uri": "https://localhost:8080/"
        },
        "id": "E7lqrozt0YId",
        "outputId": "5de3bcfa-3eb3-433e-97f1-46c9f7d439c9"
      },
      "execution_count": null,
      "outputs": [
        {
          "output_type": "execute_result",
          "data": {
            "text/plain": [
              "103"
            ]
          },
          "metadata": {},
          "execution_count": 15
        }
      ]
    },
    {
      "cell_type": "code",
      "source": [
        "len(soup.select('table.byChart > tbody > tr'))  # 원하는 100개 아니므로 범위를 축소"
      ],
      "metadata": {
        "colab": {
          "base_uri": "https://localhost:8080/"
        },
        "id": "-P8fuGCB0vQg",
        "outputId": "7cf8f0f8-1669-40ee-c1a1-8a3ce7b27345"
      },
      "execution_count": null,
      "outputs": [
        {
          "output_type": "execute_result",
          "data": {
            "text/plain": [
              "100"
            ]
          },
          "metadata": {},
          "execution_count": 18
        }
      ]
    },
    {
      "cell_type": "code",
      "source": [
        "songs = soup.select('table.byChart > tbody > tr')  # -> 최종 100 추출 완료\n",
        "songs[1]"
      ],
      "metadata": {
        "colab": {
          "base_uri": "https://localhost:8080/"
        },
        "id": "MhkBAOui1cOk",
        "outputId": "4ac6dbf8-134f-489d-f66a-1165ff8492db"
      },
      "execution_count": null,
      "outputs": [
        {
          "output_type": "execute_result",
          "data": {
            "text/plain": [
              "<tr albumid=\"20450314\" artistid=\"65269\" multiartist=\"N\" mvid=\"606156\" rowtype=\"track\" trackid=\"32464983\">\n",
              "<input name=\"_isStream\" type=\"hidden\" value=\"32464983\"/>\n",
              "<input name=\"_isDown\" type=\"hidden\" value=\"32464983\"/>\n",
              "<td class=\"check\"><input buyminquality=\"T\" disc_id=\"1\" name=\"check\" title=\"그래서 그래 (Feat. 윤하)\" type=\"checkbox\" value=\"32464983\"/></td>\n",
              "<td>\n",
              "<div class=\"ranking\">\n",
              "<strong>2</strong>\n",
              "<p class=\"change none\"><em>0</em><span>변동없음</span></p>\n",
              "</div>\n",
              "</td>\n",
              "<td>\n",
              "<a class=\"thumbnail\" href=\"https://music.bugs.co.kr/album/20450314?wl_ref=list_tr_07_chart\" onclick=\"\n",
              "\">\n",
              "<span class=\"mask\"></span>\n",
              "<img alt=\"Epik High Is Here 下 대표이미지\" onerror=\"bugs.utils.imgError(this);\" src=\"https://image.bugsm.co.kr/album/images/50/204503/20450314.jpg?version=20220215012912.0\"/>\n",
              "</a>\n",
              "</td>\n",
              "<td>\n",
              "<a class=\"trackInfo\" href=\"https://music.bugs.co.kr/track/32464983?wl_ref=list_tr_08_chart\" onclick=\"\n",
              "\">곡정보</a>\n",
              "</td>\n",
              "<th scope=\"row\">\n",
              "<p adult_yn=\"N\" class=\"title\">\n",
              "<a adultcheckval=\"1\" aria-label=\"새창\" href=\"javascript:;\" onclick=\"bugs.wiselog.area('list_tr_09_chart');bugs.music.listen('32464983',true);\n",
              "\" title=\"그래서 그래 (Feat. 윤하)\">그래서 그래 (Feat. 윤하)</a>\n",
              "</p>\n",
              "</th>\n",
              "<td class=\"left\">\n",
              "<p class=\"artist\">\n",
              "<a href=\"https://music.bugs.co.kr/artist/65269?wl_ref=list_tr_10_chart\" onclick=\"\n",
              "\" title=\"에픽하이 (EPIK HIGH)\">에픽하이 (EPIK HIGH)</a>\n",
              "</p>\n",
              "</td>\n",
              "<td class=\"left\">\n",
              "<a class=\"album\" href=\"https://music.bugs.co.kr/album/20450314?wl_ref=list_tr_11_chart\" onclick=\"\n",
              "\" title=\"Epik High Is Here 下\">Epik High Is Here 下</a>\n",
              "</td>\n",
              "<td>\n",
              "<a adultcheckval=\"1\" aria-label=\"새창\" class=\"btn play\" href=\"javascript:;\" onclick=\"bugs.wiselog.area('list_tr_12_chart');bugs.music.listen('32464983',true);\n",
              "\">듣기</a>\n",
              "</td>\n",
              "<td>\n",
              "<a adultcheckval=\"1\" aria-label=\"새창\" class=\"btn addPlaylist\" href=\"javascript:;\" onclick=\"bugs.wiselog.area('list_tr_13_chart');bugs.music.listen('32464983');\n",
              "\">재생목록에 추가</a>\n",
              "</td>\n",
              "<td>\n",
              "<a class=\"btn addAlbum\" href=\"javascript:;\" onclick=\"bugs.wiselog.area('list_tr_14_chart');bugs.music.addTrackToMyAlbum(this,'32464983');\n",
              "\" track_title=\"그래서 그래 (Feat. 윤하)\">내 앨범에 담기</a>\n",
              "</td>\n",
              "<td>\n",
              "<a adultcheckval=\"1\" aria-label=\"새창\" class=\"btn download flac\" href=\"javascript:;\" onclick=\"bugs.wiselog.area('list_tr_15_chart');bugs.layermenu.down(this,'32464983','true','true','44.1','true','48', null );\n",
              "\"><em class=\"flac\">flac </em>다운로드</a>\n",
              "</td>\n",
              "<td>\n",
              "<a aria-label=\"새창\" class=\"btn viewMV\" href=\"javascript:;\" onclick=\"bugs.wiselog.area('list_tr_16_chart');\n",
              "bugs.layermenu.mv(this,32464983, 606156, 'Y', 'Y', 'Y', 'Y', 32464983, 'N','ALL', 'Y');\n",
              "\">영상 재생</a>\n",
              "</td>\n",
              "<td>\n",
              "<a artist_disp_nm=\"에픽하이 (EPIK HIGH)\" artist_id=\"65269\" class=\"btnActions\" href=\"javascript:;\" layer_type=\"CHART\" layerpositiontarget=\"td\" onclick=\"bugs.wiselog.area('list_tr_17_chart');\n",
              "bugs.layermenu.trackMoreAction(this,'32464983','0','20450314','bugs.music.listenRadioFromSeed(\\'32464983\\',\\'track\\');','N', 'Y', '_chart');\n",
              "\" track_title=\"그래서 그래 (Feat. 윤하)\">기타 기능</a>\n",
              "</td>\n",
              "</tr>"
            ]
          },
          "metadata": {},
          "execution_count": 20
        }
      ]
    }
  ]
}