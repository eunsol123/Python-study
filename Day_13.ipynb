{
  "nbformat": 4,
  "nbformat_minor": 0,
  "metadata": {
    "colab": {
      "name": "Day 13.ipynb",
      "provenance": [],
      "include_colab_link": true
    },
    "kernelspec": {
      "name": "python3",
      "display_name": "Python 3"
    },
    "language_info": {
      "name": "python"
    }
  },
  "cells": [
    {
      "cell_type": "markdown",
      "metadata": {
        "id": "view-in-github",
        "colab_type": "text"
      },
      "source": [
        "<a href=\"https://colab.research.google.com/github/eunsol123/ai/blob/main/Day_13.ipynb\" target=\"_parent\"><img src=\"https://colab.research.google.com/assets/colab-badge.svg\" alt=\"Open In Colab\"/></a>"
      ]
    },
    {
      "cell_type": "code",
      "execution_count": null,
      "metadata": {
        "colab": {
          "base_uri": "https://localhost:8080/"
        },
        "id": "GS0Zi9JH2ULe",
        "outputId": "0b70581f-a2d1-4d9e-cafb-683d62566978"
      },
      "outputs": [
        {
          "output_type": "stream",
          "name": "stdout",
          "text": [
            "Enter a number >> 4\n",
            "Enter a number >> 2\n",
            "Enter a number >> 1\n",
            "Enter a number >> 5\n",
            "The last number you entered was a 5\n"
          ]
        }
      ],
      "source": [
        "# Ask the user to enter a number. Keep asking until they enter a value over 5\n",
        "# and then display the message \"The last number you entered was a [number]\"\n",
        "# and stop the program.\n",
        "\n",
        "#by  김지연\n",
        "\n",
        "num = 0\n",
        "\n",
        "while num < 5:\n",
        "    num = int(input('Enter a number >> '))\n",
        "\n",
        "print(f'The last number you entered was a {num}')\n"
      ]
    },
    {
      "cell_type": "code",
      "source": [
        "# Ask the user to enter a number and then enter another number.\n",
        "# Add there two numbers together and then \n",
        "# ask  if they want to add another number. If they enter 'y', ask them to enter \n",
        "# another numbers until they do not answer 'y'. Once the loop has stopped,\n",
        "# display the total.\n",
        "\n",
        "a = int(input('Enter a number : '))\n",
        "sum = a\n",
        "again = 'y'\n",
        "while again == 'y':\n",
        "  b = int(input('Enter a number : '))\n",
        "  sum = sum + b\n",
        "  again = input('Do you want to add another number? (y/n)')\n",
        "\n",
        "print('The total is ', sum)\n"
      ],
      "metadata": {
        "colab": {
          "base_uri": "https://localhost:8080/"
        },
        "id": "pySER6q944dM",
        "outputId": "480fa828-227b-4417-b7b9-09ad2d4ccc41"
      },
      "execution_count": null,
      "outputs": [
        {
          "output_type": "stream",
          "name": "stdout",
          "text": [
            "Enter a number : 2\n",
            "Enter a number : 3\n",
            "Do you want to add another number? (y/n)y\n",
            "Enter a number : 2\n",
            "Do you want to add another number? (y/n)y\n",
            "Enter a number : 3\n",
            "Do you want to add another number? (y/n)n\n",
            "The total is  10\n"
          ]
        }
      ]
    },
    {
      "cell_type": "code",
      "source": [
        "# by  이민형\n",
        "\n",
        "a = int(input('Enter a number : '))\n",
        "\n",
        "again = 'y'\n",
        "while again == 'y':\n",
        "  b = int(input('Enter a number : '))\n",
        "  a = a + b\n",
        "  again = input('Do you want to add another number? (y/n)')\n",
        "\n",
        "print('The total is ', a)"
      ],
      "metadata": {
        "colab": {
          "base_uri": "https://localhost:8080/"
        },
        "id": "ztOYRvWk8W0v",
        "outputId": "02d34218-b19f-4b1b-8111-fac74ba3a49a"
      },
      "execution_count": null,
      "outputs": [
        {
          "output_type": "stream",
          "name": "stdout",
          "text": [
            "Enter a number : 2\n",
            "Enter a number : 3\n",
            "Do you want to add another number? (y/n)y\n",
            "Enter a number : 2\n",
            "Do you want to add another number? (y/n)y\n",
            "Enter a number : 3\n",
            "Do you want to add another number? (y/n)n\n",
            "The total is  10\n"
          ]
        }
      ]
    },
    {
      "cell_type": "code",
      "source": [
        "# Ask for the name of somebody the user wants to invite to a party.\n",
        "# After this, display the message '[name] has been invited' \n",
        "# and add 1 to the count. Then ask if they want to invite somebody else.\n",
        "# Keep repeating this until they no longer want to invite anyone else to the\n",
        "# party and then display how many people they have coming to the party.\n",
        "again = 'y'\n",
        "count = 0\n",
        "\n",
        "while again == 'y':\n",
        "  name = input('Enter a name of somebody you want to invite to the party? : ')\n",
        "  print(name, ' has been invited')\n",
        "  count += 1\n",
        "  again = input('Do you want to invite somebody else? (y/n)')\n",
        "\n",
        "print('You hava', count, 'people coming to your party')\n",
        "\n"
      ],
      "metadata": {
        "colab": {
          "base_uri": "https://localhost:8080/"
        },
        "id": "oCx8P4eY8th0",
        "outputId": "73e9ea83-d5b8-49b4-f2f6-f347bdf43ed0"
      },
      "execution_count": null,
      "outputs": [
        {
          "output_type": "stream",
          "name": "stdout",
          "text": [
            "Enter a name of somebody you want to invite to the party? : austin\n",
            "austin  has been invited\n",
            "Do you want to invite somebody else? (y/n)y\n",
            "Enter a name of somebody you want to invite to the party? : rick\n",
            "rick  has been invited\n",
            "Do you want to invite somebody else? (y/n)n\n",
            "You hava 2 people coming to your party\n"
          ]
        }
      ]
    },
    {
      "cell_type": "code",
      "source": [
        "# Create a variable called 'compnum' and set the value to 50. \n",
        "# Ask the user to enter a number. \n",
        "# while their guess is not the same as the compnum value,\n",
        "# tell them if their guess is too low or too high and ask them to have another guess.\n",
        "# If they enter the same value as compnum, \n",
        "# display the message 'Well done, you took [count] apptmpts'.\n",
        "\n",
        "compnum = 50\n",
        "\n",
        "num = int(input('Can u guess the number I am thinking of ?'))\n",
        "count = 1\n",
        "while compnum != num:\n",
        "  if num < compnum:\n",
        "    print('Too low')\n",
        "  else:\n",
        "    print('Too high')\n",
        "  count += 1\n",
        "  num = int(input('another guess : '))\n",
        "\n",
        "print('Well done, you took ',count, 'apptmpts')"
      ],
      "metadata": {
        "colab": {
          "base_uri": "https://localhost:8080/"
        },
        "id": "8QspqfMw_zYj",
        "outputId": "fd0704cf-a835-4dbe-fccd-5eb24b96f61c"
      },
      "execution_count": null,
      "outputs": [
        {
          "output_type": "stream",
          "name": "stdout",
          "text": [
            "Can u guess the number I am thinking of ?40\n",
            "Too low\n",
            "another guess : 60\n",
            "Too high\n",
            "another guess : 45\n",
            "Too low\n",
            "another guess : 50\n",
            "Well done, you took  4 apptmpts\n"
          ]
        }
      ]
    },
    {
      "cell_type": "code",
      "source": [
        "import random\n",
        "\n",
        "compnum = random.randrange(1,100)\n",
        "\n",
        "num = int(input('Can u guess the number I am thinking of ?'))\n",
        "count = 1\n",
        "while compnum != num:\n",
        "  if num < compnum:\n",
        "    print('Too low')\n",
        "  else:\n",
        "    print('Too high')\n",
        "  count += 1\n",
        "  num = int(input('another guess : '))\n",
        "\n",
        "print('Well done, you took ',count, 'apptmpts')"
      ],
      "metadata": {
        "colab": {
          "base_uri": "https://localhost:8080/"
        },
        "id": "mx7Ozbew_fQj",
        "outputId": "0d4b8fe8-f33c-464a-ac6d-9c56971b918b"
      },
      "execution_count": null,
      "outputs": [
        {
          "output_type": "stream",
          "name": "stdout",
          "text": [
            "Can u guess the number I am thinking of ?50\n",
            "Too low\n",
            "another guess : 75\n",
            "Too high\n",
            "another guess : 65\n",
            "Too low\n",
            "another guess : 70\n",
            "Too high\n",
            "another guess : 67\n",
            "Too high\n",
            "another guess : 66\n",
            "Well done, you took  6 apptmpts\n"
          ]
        }
      ]
    },
    {
      "cell_type": "code",
      "source": [
        ""
      ],
      "metadata": {
        "id": "GPgs9Z3jNnZt"
      },
      "execution_count": null,
      "outputs": []
    },
    {
      "cell_type": "code",
      "source": [
        "# Using the song '10 green bottles', display the lines \n",
        "# '10 green bottles' 라는 노래를 이용하여\n",
        "\n",
        "# 'There are [num] green bottles hanging on the wall, \n",
        "# [num] green bottles hanging on the wall, \n",
        "# and if 1 green bottle should accidentally fall'\n",
        "# 라는 가사를 출력하고\n",
        "\n",
        "# Then ask the question 'how many green bottles will be hanging on the wall?'\n",
        "# 남은 병의 갯수는 몇개니 라고 질문한다. \n",
        "# If the user answers correctly, display the message\n",
        "# 질문에 맞는 답을 하면 \n",
        "# 'There will be [num] green bottles hanging on the wall'\n",
        "# 몇개 남은 결과를 출력하고\n",
        "# If they answer incorrectly, display the message \n",
        "# 틀린 답을 입력하면 \n",
        "# 'No, try again' until they get if right.\n",
        "# 다시 시도하셔요 라고 맞출때까지 반복한다. \n",
        "# When the number of green bottles gets down to 0,\n",
        "# 병의 개수가 0이되면 \n",
        "# display the message 'There are no more green bottles hanging on the wall'\n",
        "# 더이상 남은 병은 없습니다. 출력하고 종료한다. \n",
        "\n",
        "\n",
        "num = 10\n",
        "\n",
        "while num > 0 :\n",
        "  print('There are', num, 'green bottles hanging on the wall,')\n",
        "  print(num,' green bottles hanging on the wall,') \n",
        "  print('and if 1 green bottle should accidentally fall')\n",
        "  num -= 1\n",
        "  ans = int(input('How many green bottles will be hanging on the wall?'))\n",
        "  if ans == num:\n",
        "    print('There will be', num, ' green bottles hanging on the wall')\n",
        "  else: \n",
        "    while ans != num:\n",
        "      ans = int(input('No, try again :'))\n",
        "print('There are no more green bottles hanging on the wall45')"
      ],
      "metadata": {
        "colab": {
          "base_uri": "https://localhost:8080/",
          "height": 1000
        },
        "id": "qgzvnyJGHCuf",
        "outputId": "7caec547-533c-46eb-fd07-bf6753235e44"
      },
      "execution_count": null,
      "outputs": [
        {
          "output_type": "stream",
          "name": "stdout",
          "text": [
            "There are 10 green bottles hanging on the wall,\n",
            "10  green bottles hanging on the wall,\n",
            "and if 1 green bottle should accidentally fall\n",
            "How many green bottles will be hanging on the wall?7\n",
            "No, try again :6\n",
            "No, try again :5\n",
            "No, try again :9\n",
            "There are 9 green bottles hanging on the wall,\n",
            "9  green bottles hanging on the wall,\n",
            "and if 1 green bottle should accidentally fall\n",
            "How many green bottles will be hanging on the wall?7\n",
            "No, try again :6\n",
            "No, try again :5\n",
            "No, try again :4\n",
            "No, try again :8\n",
            "There are 8 green bottles hanging on the wall,\n",
            "8  green bottles hanging on the wall,\n",
            "and if 1 green bottle should accidentally fall\n",
            "How many green bottles will be hanging on the wall?7\n",
            "There will be 7  green bottles hanging on the wall\n",
            "There are 7 green bottles hanging on the wall,\n",
            "7  green bottles hanging on the wall,\n",
            "and if 1 green bottle should accidentally fall\n",
            "How many green bottles will be hanging on the wall?6\n",
            "There will be 6  green bottles hanging on the wall\n",
            "There are 6 green bottles hanging on the wall,\n",
            "6  green bottles hanging on the wall,\n",
            "and if 1 green bottle should accidentally fall\n",
            "How many green bottles will be hanging on the wall?5\n",
            "There will be 5  green bottles hanging on the wall\n",
            "There are 5 green bottles hanging on the wall,\n",
            "5  green bottles hanging on the wall,\n",
            "and if 1 green bottle should accidentally fall\n"
          ]
        },
        {
          "output_type": "error",
          "ename": "KeyboardInterrupt",
          "evalue": "ignored",
          "traceback": [
            "\u001b[0;31m---------------------------------------------------------------------------\u001b[0m",
            "\u001b[0;31mKeyboardInterrupt\u001b[0m                         Traceback (most recent call last)",
            "\u001b[0;32m/usr/local/lib/python3.7/dist-packages/ipykernel/kernelbase.py\u001b[0m in \u001b[0;36m_input_request\u001b[0;34m(self, prompt, ident, parent, password)\u001b[0m\n\u001b[1;32m    728\u001b[0m             \u001b[0;32mtry\u001b[0m\u001b[0;34m:\u001b[0m\u001b[0;34m\u001b[0m\u001b[0;34m\u001b[0m\u001b[0m\n\u001b[0;32m--> 729\u001b[0;31m                 \u001b[0mident\u001b[0m\u001b[0;34m,\u001b[0m \u001b[0mreply\u001b[0m \u001b[0;34m=\u001b[0m \u001b[0mself\u001b[0m\u001b[0;34m.\u001b[0m\u001b[0msession\u001b[0m\u001b[0;34m.\u001b[0m\u001b[0mrecv\u001b[0m\u001b[0;34m(\u001b[0m\u001b[0mself\u001b[0m\u001b[0;34m.\u001b[0m\u001b[0mstdin_socket\u001b[0m\u001b[0;34m,\u001b[0m \u001b[0;36m0\u001b[0m\u001b[0;34m)\u001b[0m\u001b[0;34m\u001b[0m\u001b[0;34m\u001b[0m\u001b[0m\n\u001b[0m\u001b[1;32m    730\u001b[0m             \u001b[0;32mexcept\u001b[0m \u001b[0mException\u001b[0m\u001b[0;34m:\u001b[0m\u001b[0;34m\u001b[0m\u001b[0;34m\u001b[0m\u001b[0m\n",
            "\u001b[0;32m/usr/local/lib/python3.7/dist-packages/jupyter_client/session.py\u001b[0m in \u001b[0;36mrecv\u001b[0;34m(self, socket, mode, content, copy)\u001b[0m\n\u001b[1;32m    802\u001b[0m         \u001b[0;32mtry\u001b[0m\u001b[0;34m:\u001b[0m\u001b[0;34m\u001b[0m\u001b[0;34m\u001b[0m\u001b[0m\n\u001b[0;32m--> 803\u001b[0;31m             \u001b[0mmsg_list\u001b[0m \u001b[0;34m=\u001b[0m \u001b[0msocket\u001b[0m\u001b[0;34m.\u001b[0m\u001b[0mrecv_multipart\u001b[0m\u001b[0;34m(\u001b[0m\u001b[0mmode\u001b[0m\u001b[0;34m,\u001b[0m \u001b[0mcopy\u001b[0m\u001b[0;34m=\u001b[0m\u001b[0mcopy\u001b[0m\u001b[0;34m)\u001b[0m\u001b[0;34m\u001b[0m\u001b[0;34m\u001b[0m\u001b[0m\n\u001b[0m\u001b[1;32m    804\u001b[0m         \u001b[0;32mexcept\u001b[0m \u001b[0mzmq\u001b[0m\u001b[0;34m.\u001b[0m\u001b[0mZMQError\u001b[0m \u001b[0;32mas\u001b[0m \u001b[0me\u001b[0m\u001b[0;34m:\u001b[0m\u001b[0;34m\u001b[0m\u001b[0;34m\u001b[0m\u001b[0m\n",
            "\u001b[0;32m/usr/local/lib/python3.7/dist-packages/zmq/sugar/socket.py\u001b[0m in \u001b[0;36mrecv_multipart\u001b[0;34m(self, flags, copy, track)\u001b[0m\n\u001b[1;32m    624\u001b[0m         \"\"\"\n\u001b[0;32m--> 625\u001b[0;31m         \u001b[0mparts\u001b[0m \u001b[0;34m=\u001b[0m \u001b[0;34m[\u001b[0m\u001b[0mself\u001b[0m\u001b[0;34m.\u001b[0m\u001b[0mrecv\u001b[0m\u001b[0;34m(\u001b[0m\u001b[0mflags\u001b[0m\u001b[0;34m,\u001b[0m \u001b[0mcopy\u001b[0m\u001b[0;34m=\u001b[0m\u001b[0mcopy\u001b[0m\u001b[0;34m,\u001b[0m \u001b[0mtrack\u001b[0m\u001b[0;34m=\u001b[0m\u001b[0mtrack\u001b[0m\u001b[0;34m)\u001b[0m\u001b[0;34m]\u001b[0m\u001b[0;34m\u001b[0m\u001b[0;34m\u001b[0m\u001b[0m\n\u001b[0m\u001b[1;32m    626\u001b[0m         \u001b[0;31m# have first part already, only loop while more to receive\u001b[0m\u001b[0;34m\u001b[0m\u001b[0;34m\u001b[0m\u001b[0;34m\u001b[0m\u001b[0m\n",
            "\u001b[0;32mzmq/backend/cython/socket.pyx\u001b[0m in \u001b[0;36mzmq.backend.cython.socket.Socket.recv\u001b[0;34m()\u001b[0m\n",
            "\u001b[0;32mzmq/backend/cython/socket.pyx\u001b[0m in \u001b[0;36mzmq.backend.cython.socket.Socket.recv\u001b[0;34m()\u001b[0m\n",
            "\u001b[0;32mzmq/backend/cython/socket.pyx\u001b[0m in \u001b[0;36mzmq.backend.cython.socket._recv_copy\u001b[0;34m()\u001b[0m\n",
            "\u001b[0;32m/usr/local/lib/python3.7/dist-packages/zmq/backend/cython/checkrc.pxd\u001b[0m in \u001b[0;36mzmq.backend.cython.checkrc._check_rc\u001b[0;34m()\u001b[0m\n",
            "\u001b[0;31mKeyboardInterrupt\u001b[0m: ",
            "\nDuring handling of the above exception, another exception occurred:\n",
            "\u001b[0;31mKeyboardInterrupt\u001b[0m                         Traceback (most recent call last)",
            "\u001b[0;32m<ipython-input-15-bd65a7a8585d>\u001b[0m in \u001b[0;36m<module>\u001b[0;34m()\u001b[0m\n\u001b[1;32m     30\u001b[0m   \u001b[0mprint\u001b[0m\u001b[0;34m(\u001b[0m\u001b[0;34m'and if 1 green bottle should accidentally fall'\u001b[0m\u001b[0;34m)\u001b[0m\u001b[0;34m\u001b[0m\u001b[0;34m\u001b[0m\u001b[0m\n\u001b[1;32m     31\u001b[0m   \u001b[0mnum\u001b[0m \u001b[0;34m-=\u001b[0m \u001b[0;36m1\u001b[0m\u001b[0;34m\u001b[0m\u001b[0;34m\u001b[0m\u001b[0m\n\u001b[0;32m---> 32\u001b[0;31m   \u001b[0mans\u001b[0m \u001b[0;34m=\u001b[0m \u001b[0mint\u001b[0m\u001b[0;34m(\u001b[0m\u001b[0minput\u001b[0m\u001b[0;34m(\u001b[0m\u001b[0;34m'How many green bottles will be hanging on the wall?'\u001b[0m\u001b[0;34m)\u001b[0m\u001b[0;34m)\u001b[0m\u001b[0;34m\u001b[0m\u001b[0;34m\u001b[0m\u001b[0m\n\u001b[0m\u001b[1;32m     33\u001b[0m   \u001b[0;32mif\u001b[0m \u001b[0mans\u001b[0m \u001b[0;34m==\u001b[0m \u001b[0mnum\u001b[0m\u001b[0;34m:\u001b[0m\u001b[0;34m\u001b[0m\u001b[0;34m\u001b[0m\u001b[0m\n\u001b[1;32m     34\u001b[0m     \u001b[0mprint\u001b[0m\u001b[0;34m(\u001b[0m\u001b[0;34m'There will be'\u001b[0m\u001b[0;34m,\u001b[0m \u001b[0mnum\u001b[0m\u001b[0;34m,\u001b[0m \u001b[0;34m' green bottles hanging on the wall'\u001b[0m\u001b[0;34m)\u001b[0m\u001b[0;34m\u001b[0m\u001b[0;34m\u001b[0m\u001b[0m\n",
            "\u001b[0;32m/usr/local/lib/python3.7/dist-packages/ipykernel/kernelbase.py\u001b[0m in \u001b[0;36mraw_input\u001b[0;34m(self, prompt)\u001b[0m\n\u001b[1;32m    702\u001b[0m             \u001b[0mself\u001b[0m\u001b[0;34m.\u001b[0m\u001b[0m_parent_ident\u001b[0m\u001b[0;34m,\u001b[0m\u001b[0;34m\u001b[0m\u001b[0;34m\u001b[0m\u001b[0m\n\u001b[1;32m    703\u001b[0m             \u001b[0mself\u001b[0m\u001b[0;34m.\u001b[0m\u001b[0m_parent_header\u001b[0m\u001b[0;34m,\u001b[0m\u001b[0;34m\u001b[0m\u001b[0;34m\u001b[0m\u001b[0m\n\u001b[0;32m--> 704\u001b[0;31m             \u001b[0mpassword\u001b[0m\u001b[0;34m=\u001b[0m\u001b[0;32mFalse\u001b[0m\u001b[0;34m,\u001b[0m\u001b[0;34m\u001b[0m\u001b[0;34m\u001b[0m\u001b[0m\n\u001b[0m\u001b[1;32m    705\u001b[0m         )\n\u001b[1;32m    706\u001b[0m \u001b[0;34m\u001b[0m\u001b[0m\n",
            "\u001b[0;32m/usr/local/lib/python3.7/dist-packages/ipykernel/kernelbase.py\u001b[0m in \u001b[0;36m_input_request\u001b[0;34m(self, prompt, ident, parent, password)\u001b[0m\n\u001b[1;32m    732\u001b[0m             \u001b[0;32mexcept\u001b[0m \u001b[0mKeyboardInterrupt\u001b[0m\u001b[0;34m:\u001b[0m\u001b[0;34m\u001b[0m\u001b[0;34m\u001b[0m\u001b[0m\n\u001b[1;32m    733\u001b[0m                 \u001b[0;31m# re-raise KeyboardInterrupt, to truncate traceback\u001b[0m\u001b[0;34m\u001b[0m\u001b[0;34m\u001b[0m\u001b[0;34m\u001b[0m\u001b[0m\n\u001b[0;32m--> 734\u001b[0;31m                 \u001b[0;32mraise\u001b[0m \u001b[0mKeyboardInterrupt\u001b[0m\u001b[0;34m\u001b[0m\u001b[0;34m\u001b[0m\u001b[0m\n\u001b[0m\u001b[1;32m    735\u001b[0m             \u001b[0;32melse\u001b[0m\u001b[0;34m:\u001b[0m\u001b[0;34m\u001b[0m\u001b[0;34m\u001b[0m\u001b[0m\n\u001b[1;32m    736\u001b[0m                 \u001b[0;32mbreak\u001b[0m\u001b[0;34m\u001b[0m\u001b[0;34m\u001b[0m\u001b[0m\n",
            "\u001b[0;31mKeyboardInterrupt\u001b[0m: "
          ]
        }
      ]
    },
    {
      "cell_type": "code",
      "source": [
        "#########################################################\n",
        "# Random : Python can generate random values\n",
        "\n",
        "# - Random numbers within a specified range. \n",
        "# - A random choice from a range of items that are input. \n",
        "\n",
        "# To use these two options, you will need to import the random module. \n",
        "# You do this by typing import random at the start of your program."
      ],
      "metadata": {
        "id": "TkVmp4HaNoD7"
      },
      "execution_count": null,
      "outputs": []
    },
    {
      "cell_type": "code",
      "source": [
        "import random\n",
        "num = random.random()\n",
        "print(num)\n",
        "\n",
        "# random floating number between 0 and 1"
      ],
      "metadata": {
        "colab": {
          "base_uri": "https://localhost:8080/"
        },
        "id": "KT8_BxVVSKX9",
        "outputId": "c98a3af1-9bca-464a-e7e5-79201ca10952"
      },
      "execution_count": null,
      "outputs": [
        {
          "output_type": "stream",
          "name": "stdout",
          "text": [
            "0.42888344964881875\n"
          ]
        }
      ]
    },
    {
      "cell_type": "code",
      "source": [
        "num = int((random.random()) * 10)\n",
        "print(num)"
      ],
      "metadata": {
        "colab": {
          "base_uri": "https://localhost:8080/"
        },
        "id": "ARMonyPCSqPp",
        "outputId": "c27abde0-695e-43ae-8e51-9912d4c9df88"
      },
      "execution_count": null,
      "outputs": [
        {
          "output_type": "stream",
          "name": "stdout",
          "text": [
            "9\n"
          ]
        }
      ]
    },
    {
      "cell_type": "code",
      "source": [
        "# Selects a random whole number between 0 and 9(inclusive)\n",
        "\n",
        "num = random.randint(0,9) #9(inclusive)\n",
        "print(num)"
      ],
      "metadata": {
        "colab": {
          "base_uri": "https://localhost:8080/"
        },
        "id": "j9gIFIemS-I7",
        "outputId": "12186263-50b8-4466-df6d-703f3253d8bf"
      },
      "execution_count": null,
      "outputs": [
        {
          "output_type": "stream",
          "name": "stdout",
          "text": [
            "9\n"
          ]
        }
      ]
    },
    {
      "cell_type": "code",
      "source": [
        "# Picks a random number between the numbers 0 and 100(inclusive) in steps of five\n",
        "# it will only pick from 0,5,10,15,20....etc\n",
        "\n",
        "num = random.randrange(0, 100, 5)  # 100(inclusive)\n",
        "print(num)"
      ],
      "metadata": {
        "colab": {
          "base_uri": "https://localhost:8080/"
        },
        "id": "qAc5FUgUTiNF",
        "outputId": "bfd3c3a7-e2a6-4d3a-f6b9-a04d7fed58d9"
      },
      "execution_count": null,
      "outputs": [
        {
          "output_type": "stream",
          "name": "stdout",
          "text": [
            "40\n"
          ]
        }
      ]
    },
    {
      "cell_type": "code",
      "source": [
        "# Picks a random value from the options.........\n",
        "\n",
        "color = random.choice(['red','black','blue','green','white'])\n",
        "print(color)"
      ],
      "metadata": {
        "colab": {
          "base_uri": "https://localhost:8080/"
        },
        "id": "iLZIdH7cUB9T",
        "outputId": "03405d71-e2be-4358-edb0-6023cc0798f1"
      },
      "execution_count": null,
      "outputs": [
        {
          "output_type": "stream",
          "name": "stdout",
          "text": [
            "red\n"
          ]
        }
      ]
    },
    {
      "cell_type": "code",
      "source": [
        "# Randomly choose either heads or tails ( 'h' or 't') \n",
        "# Ask the user to make their choice.\n",
        "# If their choice is the same as the randomly selected value,\n",
        "# display the message ' You Win ', otherwise display 'Bad luck'.\n",
        "# At the end, tell the user if the computer selected heads or tails.\n",
        "\n",
        "import random\n",
        "\n",
        "coin = random.choice(['h','t'])\n",
        "\n",
        "guess = input('Enter (h)eads or (t)ails : ')\n",
        "\n",
        "if coin == guess :\n",
        "  print('You win')\n",
        "else:\n",
        "  print('Bad luck')\n",
        "\n",
        "print(coin)"
      ],
      "metadata": {
        "colab": {
          "base_uri": "https://localhost:8080/"
        },
        "id": "XpkVmE8tUhvr",
        "outputId": "b9885ae2-7eb3-4394-99cd-a67508afad7b"
      },
      "execution_count": null,
      "outputs": [
        {
          "output_type": "stream",
          "name": "stdout",
          "text": [
            "Enter (h)eads or (t)ails : h\n",
            "You win\n",
            "h\n"
          ]
        }
      ]
    },
    {
      "cell_type": "code",
      "source": [
        "# Makes a maths quiz that asks five questions \n",
        "# by randomly generating two whole numbers to make the question\n",
        "# ( [num1 + num2] )\n",
        "# Ask the user to enter the answer. \n",
        "# If they get it right add a point to their score.\n",
        "# At the end of the quiz, tell them how many they got correct out of five.\n",
        "\n",
        "# (output) ; 'You scored [score] out of 5'\n",
        "\n",
        "import random\n",
        "\n",
        "score = 0\n",
        "\n",
        "for i in range(5):\n",
        "  num1 = random.randint(1,9)\n",
        "  num2 = random.randint(1,9)\n",
        "\n",
        "  corr = num1 + num2\n",
        "\n",
        "  print(f'{num1} + {num2} = ')\n",
        "  answer = int(input('Your answer : '))\n",
        "  print()\n",
        "  if answer == corr:\n",
        "    score += 1\n",
        "\n",
        "print(f'You scored {score} out of 5')\n"
      ],
      "metadata": {
        "colab": {
          "base_uri": "https://localhost:8080/"
        },
        "id": "WJj_NWgxXHL-",
        "outputId": "53fe3ff9-941e-4297-cec4-c2bad4139e7e"
      },
      "execution_count": null,
      "outputs": [
        {
          "output_type": "stream",
          "name": "stdout",
          "text": [
            "8 + 4 = \n",
            "Your answer : 12\n",
            "\n",
            "3 + 9 = \n",
            "Your answer : 12\n",
            "\n",
            "1 + 2 = \n",
            "Your answer : 5\n",
            "\n",
            "7 + 9 = \n",
            "Your answer : 12\n",
            "\n",
            "8 + 5 = \n",
            "Your answer : 13\n",
            "\n",
            "You scored 3 out of 5\n"
          ]
        }
      ]
    },
    {
      "cell_type": "code",
      "source": [
        "import random\n",
        "num1 = random.randint(0,10)\n",
        "num2 = random.randint(0,10)\n",
        "ans = int(input(f\"{num1}+{num2} = What answer?\"))\n",
        "quiz = 1\n",
        "score = 0\n",
        "while quiz < 5:\n",
        "    quiz += 1\n",
        "    num1 = random.randint(0,10)\n",
        "    num2 = random.randint(0,10)\n",
        "    ans = int(input(f\"{num1}+{num2} = What answer?\"))\n",
        "    if ans == (num1 + num2):\n",
        "        score += 1\n",
        "print(score)\n"
      ],
      "metadata": {
        "id": "F-TxZEqCaj0R"
      },
      "execution_count": null,
      "outputs": []
    },
    {
      "cell_type": "code",
      "source": [
        "# Display five colors and ask the user to pick one.\n",
        "# If they pick the same as the program has chosen,\n",
        "# say 'Well done', otherwise display a witty answer which involves\n",
        "# the correct colors....like...'I bet you are GREEN with envy'\n",
        "# or 'You are probably feeling BLUE right now'.\n",
        "# Ask them to guess again: if they have still not got it right,\n",
        "# keep giving them the same clue and ask the user to enter a color\n",
        "# until they guess it correctly.\n",
        "\n"
      ],
      "metadata": {
        "id": "RFJt729BbAYK"
      },
      "execution_count": null,
      "outputs": []
    }
  ]
}