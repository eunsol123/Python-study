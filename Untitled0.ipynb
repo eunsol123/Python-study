{
  "nbformat": 4,
  "nbformat_minor": 0,
  "metadata": {
    "colab": {
      "name": "Untitled0.ipynb",
      "provenance": [],
      "authorship_tag": "ABX9TyOtwGaORUjk3Z8uRPiI9j+l",
      "include_colab_link": true
    },
    "kernelspec": {
      "name": "python3",
      "display_name": "Python 3"
    },
    "language_info": {
      "name": "python"
    }
  },
  "cells": [
    {
      "cell_type": "markdown",
      "metadata": {
        "id": "view-in-github",
        "colab_type": "text"
      },
      "source": [
        "<a href=\"https://colab.research.google.com/github/eunsol123/ai/blob/main/Untitled0.ipynb\" target=\"_parent\"><img src=\"https://colab.research.google.com/assets/colab-badge.svg\" alt=\"Open In Colab\"/></a>"
      ]
    },
    {
      "cell_type": "code",
      "execution_count": null,
      "metadata": {
        "colab": {
          "base_uri": "https://localhost:8080/"
        },
        "id": "GLgxfg_OzBAO",
        "outputId": "80f2c772-3f6a-4b65-c6a3-38174b6e876d"
      },
      "outputs": [
        {
          "output_type": "stream",
          "name": "stdout",
          "text": [
            "Alice\n",
            "25\n",
            "우편번호 12345\n",
            "서울시 영등포구 여의도동\n",
            "서울빌딩 501호\n",
            "None\n",
            "168.5\n"
          ]
        }
      ],
      "source": [
        "name = 'Alice'\n",
        "age = 25\n",
        "address = '''우편번호 12345\n",
        "서울시 영등포구 여의도동\n",
        "서울빌딩 501호'''\n",
        "boyfriend = None\n",
        "height = 168.5\n",
        "\n",
        "print(name)\n",
        "print(age)\n",
        "print(address)\n",
        "print(boyfriend)\n",
        "print(height)"
      ]
    },
    {
      "cell_type": "code",
      "source": [
        "name = input('당신의 이름을 입력하세요 : ')\n",
        "age = input('당신의 이름을 입력하세요 : ')\n",
        "\n",
        "# 1 기본\n",
        "print('당신의 이름은',name, '이고, 나이는',age, '입니다.')\n",
        "\n",
        "# 2 f-string\n",
        "print(f'당신의 이름은 {name} 이고, 나이는 {age} 입니다.')\n",
        "\n",
        "# 3 format()\n",
        "print('당신의 이름은 {} 이고, 나이는 {} 입니다.'.format(name,age))\n",
        "\n",
        "#4 연산자\n",
        "print('당신의 이름음 %s 이고, 나이는 %s 입니다.'%(name,age))\n"
      ],
      "metadata": {
        "id": "KdWX9LOvDh4X",
        "colab": {
          "base_uri": "https://localhost:8080/"
        },
        "outputId": "6cc1538d-5ea2-48e1-b796-84cd5ff428d9"
      },
      "execution_count": 7,
      "outputs": [
        {
          "output_type": "stream",
          "name": "stdout",
          "text": [
            "당신의 이름을 입력하세요 : 조은솔\n",
            "당신의 이름을 입력하세요 : 22\n",
            "당신의 이름은 조은솔 이고, 나이는 22 입니다.\n",
            "당신의 이름은 조은솔 이고, 나이는 22 입니다.\n",
            "당신의 이름은 조은솔 이고, 나이는 22 입니다.\n",
            "당신의 이름음 조은솔 이고, 나이는 22 입니다.\n"
          ]
        }
      ]
    },
    {
      "cell_type": "code",
      "source": [
        "d = int(input('할부 개월 입력 :'))\n",
        "\n",
        "s = 50000\n",
        "m = s/d\n",
        "\n",
        "# 1 기본\n",
        "print(d,'개월 동안 매달 내는 금액은 ',m,'원 입니다.')\n",
        "\n",
        "# 2 f-string\n",
        "print(f'{d} 개월 동안 매달 내는 금액은 {m} 원 입니다.')\n",
        "\n",
        "# 3 format()\n",
        "print('{} 개월 동안 매달 내는 금액은 {} 원 입니다.'.format(d,m))\n",
        "\n",
        "#4 연산자\n",
        "print('%d개월 동안 매달 내는 금액은 %.1f 원 입니다.'%(d,m))\n"
      ],
      "metadata": {
        "colab": {
          "base_uri": "https://localhost:8080/"
        },
        "id": "Bws9yzS396oF",
        "outputId": "3f25de28-869f-422e-dc64-300124dd32d6"
      },
      "execution_count": 20,
      "outputs": [
        {
          "output_type": "stream",
          "name": "stdout",
          "text": [
            "할부 개월 입력 :5\n",
            "5 개월 동안 매달 내는 금액은  10000.0 원 입니다.\n",
            "5 개월 동안 매달 내는 금액은 10000.0 원 입니다.\n",
            "5 개월 동안 매달 내는 금액은 10000.0 원 입니다.\n",
            "5개월 동안 매달 내는 금액은 10000.0 원 입니다.\n"
          ]
        }
      ]
    },
    {
      "cell_type": "code",
      "source": [
        "\n",
        "f1 = float (input('실수 1 입력 :'))\n",
        "f2 = float (input('실수 2 입력 :'))\n",
        "\n",
        "sum = f1+f2\n",
        "\n",
        "print(f'{f1}와 {f2} 합은 {sum} 입니다.')"
      ],
      "metadata": {
        "colab": {
          "base_uri": "https://localhost:8080/"
        },
        "id": "PFu9YfJ0FC17",
        "outputId": "50f2e52d-cbe6-4497-d0ff-a17f7106fcc6"
      },
      "execution_count": 21,
      "outputs": [
        {
          "output_type": "stream",
          "name": "stdout",
          "text": [
            "실수 1 입력 :0.5\n",
            "실수 2 입력 :0.2\n",
            "0.5과 0.2 합은 0.7 입니다.\n"
          ]
        }
      ]
    }
  ]
}