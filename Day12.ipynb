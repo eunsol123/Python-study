{
  "nbformat": 4,
  "nbformat_minor": 0,
  "metadata": {
    "colab": {
      "name": "Day12.ipynb",
      "provenance": [],
      "include_colab_link": true
    },
    "kernelspec": {
      "name": "python3",
      "display_name": "Python 3"
    },
    "language_info": {
      "name": "python"
    }
  },
  "cells": [
    {
      "cell_type": "markdown",
      "metadata": {
        "id": "view-in-github",
        "colab_type": "text"
      },
      "source": [
        "<a href=\"https://colab.research.google.com/github/eunsol123/ai/blob/main/Day12.ipynb\" target=\"_parent\"><img src=\"https://colab.research.google.com/assets/colab-badge.svg\" alt=\"Open In Colab\"/></a>"
      ]
    },
    {
      "cell_type": "code",
      "execution_count": null,
      "metadata": {
        "colab": {
          "base_uri": "https://localhost:8080/"
        },
        "id": "21NsBViW37sz",
        "outputId": "c22618eb-3899-4c5b-f2db-7f6d97d3763f"
      },
      "outputs": [
        {
          "output_type": "stream",
          "name": "stdout",
          "text": [
            "3.14\n"
          ]
        }
      ],
      "source": [
        "# Maths\n",
        "\n",
        "num = 3.141592\n",
        "print(round(num,2)) # Display a number rounded to two decimal places."
      ]
    },
    {
      "cell_type": "code",
      "source": [
        "10**2\n",
        "# To the power of ..."
      ],
      "metadata": {
        "colab": {
          "base_uri": "https://localhost:8080/"
        },
        "id": "9xS0vvoX7QHb",
        "outputId": "15f329a0-2abc-49e3-ce55-48fef0ceaa1a"
      },
      "execution_count": null,
      "outputs": [
        {
          "output_type": "execute_result",
          "data": {
            "text/plain": [
              "100"
            ]
          },
          "metadata": {},
          "execution_count": 2
        }
      ]
    },
    {
      "cell_type": "code",
      "source": [
        "import math\n",
        "\n",
        "math.sqrt(100)\n",
        "\n",
        "# The square root of a number but you must have the line 'import math' \n",
        "# at the top of your program for this to work. "
      ],
      "metadata": {
        "colab": {
          "base_uri": "https://localhost:8080/"
        },
        "id": "5TDTsYQL7Vck",
        "outputId": "6e7da70b-744d-4224-d1ef-eea10748e40b"
      },
      "execution_count": null,
      "outputs": [
        {
          "output_type": "execute_result",
          "data": {
            "text/plain": [
              "10.0"
            ]
          },
          "metadata": {},
          "execution_count": 4
        }
      ]
    },
    {
      "cell_type": "code",
      "source": [
        "math.pi\n",
        "\n",
        "# Gives you pi to decimal places, but you must have the line 'import math'\n",
        "# at the top of your program for this to work."
      ],
      "metadata": {
        "colab": {
          "base_uri": "https://localhost:8080/"
        },
        "id": "njGzlSeF75XO",
        "outputId": "eb43bfc7-de34-42dd-d176-97d0672deb4d"
      },
      "execution_count": null,
      "outputs": [
        {
          "output_type": "execute_result",
          "data": {
            "text/plain": [
              "3.141592653589793"
            ]
          },
          "metadata": {},
          "execution_count": 5
        }
      ]
    },
    {
      "cell_type": "code",
      "source": [
        "15 // 2\n",
        "# Whole number division. 15//2 gives the answer 7."
      ],
      "metadata": {
        "colab": {
          "base_uri": "https://localhost:8080/"
        },
        "id": "-yOjjicu78JK",
        "outputId": "43e0d871-d56e-4151-aca8-4a356e467650"
      },
      "execution_count": null,
      "outputs": [
        {
          "output_type": "execute_result",
          "data": {
            "text/plain": [
              "7"
            ]
          },
          "metadata": {},
          "execution_count": 7
        }
      ]
    },
    {
      "cell_type": "code",
      "source": [
        "15 % 2\n",
        "# Finds the remainder. 15 % 2 gives the answer 1.\n"
      ],
      "metadata": {
        "colab": {
          "base_uri": "https://localhost:8080/"
        },
        "id": "53EL36qz8cmi",
        "outputId": "b71b397b-168d-4bc2-8c3e-d4c810468ab7"
      },
      "execution_count": null,
      "outputs": [
        {
          "output_type": "execute_result",
          "data": {
            "text/plain": [
              "1"
            ]
          },
          "metadata": {},
          "execution_count": 8
        }
      ]
    },
    {
      "cell_type": "code",
      "source": [
        "# Ask the user to enter an integer that is over 500. Work out the \n",
        "# square root of that number and display it to two decimal places.\n",
        "\n",
        "# (input) 'Enter a number over 500:'\n"
      ],
      "metadata": {
        "id": "LvWPaHM38vO_"
      },
      "execution_count": null,
      "outputs": []
    }
  ]
}